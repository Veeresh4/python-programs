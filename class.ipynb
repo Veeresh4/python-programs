{
 "cells": [
  {
   "cell_type": "code",
   "execution_count": 1,
   "metadata": {},
   "outputs": [
    {
     "name": "stdout",
     "output_type": "stream",
     "text": [
      "intel i5, 8gb ram, 1Tb ssd\n",
      "intel i5, 8gb ram, 1Tb ssd\n"
     ]
    }
   ],
   "source": [
    "class computer:\n",
    "    def sys(self):\n",
    "        print(\"intel i5, 8gb ram, 1Tb ssd\")\n",
    "\n",
    "obj=computer()\n",
    "\n",
    "#we can write two ways \n",
    "computer.sys(obj) \n",
    "obj.sys()       \n",
    "\n"
   ]
  },
  {
   "cell_type": "code",
   "execution_count": 2,
   "metadata": {},
   "outputs": [
    {
     "name": "stdout",
     "output_type": "stream",
     "text": [
      "This pc configurations are lit and good for games\n"
     ]
    }
   ],
   "source": [
    "class computer1:\n",
    "    def system(self):\n",
    "        print(\"This pc configurations are lit and good for games\")\n",
    "\n",
    "obj1=computer1()\n",
    "\n",
    "obj1.system()"
   ]
  },
  {
   "cell_type": "code",
   "execution_count": 3,
   "metadata": {},
   "outputs": [
    {
     "name": "stdout",
     "output_type": "stream",
     "text": [
      "Hi! Im elon musk, Im the founder of Tesla and spaceX\n"
     ]
    }
   ],
   "source": [
    "class employee:\n",
    "    def person(self):\n",
    "        print(\"Hi! Im elon musk, Im the founder of Tesla and spaceX\")\n",
    "\n",
    "obj2=employee()\n",
    "obj2.person()"
   ]
  },
  {
   "cell_type": "code",
   "execution_count": 34,
   "metadata": {},
   "outputs": [
    {
     "name": "stdout",
     "output_type": "stream",
     "text": [
      "My name is Sai krsihna\n",
      "Im 23 yrs old now\n",
      "Im currently works in TCS\n"
     ]
    }
   ],
   "source": [
    "class employee:\n",
    "    def __init__(self):\n",
    "        self.name=\"Sai krsihna\"\n",
    "        self.age=23\n",
    "        self.job=\"TCS\"\n",
    "\n",
    "    def func1(self):\n",
    "        print(\"My name is\", self.name)\n",
    "        print(\"Im\", self.age, \"yrs old now\")\n",
    "        print(\"Im currently works in\", self.job)  \n",
    "\n",
    "obj3=employee()\n",
    "obj3.func1()\n"
   ]
  },
  {
   "cell_type": "code",
   "execution_count": 16,
   "metadata": {},
   "outputs": [
    {
     "name": "stdout",
     "output_type": "stream",
     "text": [
      "ID: 10 \n",
      "Name: John\n"
     ]
    }
   ],
   "source": [
    "class Employee:    \n",
    "    id = 10   \n",
    "    name = \"John\"    \n",
    "    def display (self):    \n",
    "        print(\"ID: %d \\nName: %s\"%(self.id,self.name))    \n",
    "# Creating a emp instance of Employee class  \n",
    "emp = Employee()    \n",
    "emp.display()    "
   ]
  },
  {
   "cell_type": "code",
   "execution_count": 14,
   "metadata": {},
   "outputs": [
    {
     "name": "stdout",
     "output_type": "stream",
     "text": [
      "veeresh\n",
      "22\n"
     ]
    }
   ],
   "source": [
    "class employee:\n",
    "    name=\"veeresh\"\n",
    "    age=22\n",
    "    def display(self):\n",
    "        print(self.name)\n",
    "        print(self.age)\n",
    "\n",
    "emp=employee()\n",
    "emp.display()"
   ]
  },
  {
   "cell_type": "code",
   "execution_count": 11,
   "metadata": {},
   "outputs": [
    {
     "name": "stdout",
     "output_type": "stream",
     "text": [
      "BMW\n",
      "g310R\n",
      "white\n"
     ]
    }
   ],
   "source": [
    "class vehicle:\n",
    "\n",
    "    def __init__(self):\n",
    "        self.bike=\"BMW\"\n",
    "        self.varient=\"g310R\"\n",
    "        self.color=\"white\"\n",
    "\n",
    "    def func1(self):\n",
    "        print(self.bike)\n",
    "        print(self.varient)\n",
    "        print(self.color)\n",
    "\n",
    "\n",
    "obj2=vehicle()\n",
    "obj2.func1()        \n",
    "        "
   ]
  },
  {
   "cell_type": "code",
   "execution_count": 14,
   "metadata": {},
   "outputs": [
    {
     "name": "stdout",
     "output_type": "stream",
     "text": [
      "BMW bike is one of my favorite\n",
      "G310r varient is very cool\n",
      "White color in this model is freaky\n"
     ]
    }
   ],
   "source": [
    "class bike:\n",
    "    def __init__(self,nam,var,col):\n",
    "        self.name=nam\n",
    "        self.varient=var\n",
    "        self.color=col\n",
    "\n",
    "    def func1(self):\n",
    "        print(self.name,\"bike is one of my favorite\")\n",
    "        print(self.varient,\"varient is very cool\")\n",
    "        print(self.color,\"color in this model is freaky\")\n",
    "\n",
    "obj2=bike(nam=\"BMW\",var=\"G310r\",col=\"White\")\n",
    "obj2.func1()          \n",
    "        "
   ]
  },
  {
   "cell_type": "code",
   "execution_count": 89,
   "metadata": {},
   "outputs": [
    {
     "name": "stdout",
     "output_type": "stream",
     "text": [
      "Hello! Im sai chintapalli Im 24 yrs old\n",
      "Im eligible to vote\n"
     ]
    }
   ],
   "source": [
    "class person:\n",
    "    def __init__(self,name,age,gender):\n",
    "        self.name=name\n",
    "        self.age=age\n",
    "        self.gender=gender\n",
    "    \n",
    "    def func0(self):\n",
    "        print(\"Hello! Im\", self.name,\"Im\", self.age,\"yrs old\")\n",
    "        \n",
    "    def func1(self):\n",
    "        if self.age>=18:\n",
    "            print(\"Im eligible to vote\")\n",
    "        else:\n",
    "            print(\"Im not eligible to vote\")\n",
    "\n",
    "obj1=person(\"sai chintapalli\",24,\"male\")\n",
    "obj1.func0()\n",
    "obj1.func1()"
   ]
  },
  {
   "cell_type": "code",
   "execution_count": 41,
   "metadata": {},
   "outputs": [
    {
     "name": "stdout",
     "output_type": "stream",
     "text": [
      "Hello! Im sai Im 17 yrs old\n",
      "Im not eligible to vote\n"
     ]
    }
   ],
   "source": [
    "class person:\n",
    "    def __init__(self,name,age,gender):\n",
    "        self.name=name\n",
    "        self.age=age\n",
    "        self.gender=gender\n",
    "    \n",
    "    def func0(self):\n",
    "        print(\"Hello! Im\", self.name,\"Im\", self.age,\"yrs old\")\n",
    "    def func1(self):\n",
    "        if self.age>=18:\n",
    "            print(\"Im eligible to vote\")\n",
    "        else:\n",
    "            print(\"Im not eligible to vote\")\n",
    "\n",
    "age=int(input(\"enter the age\"))\n",
    "obj1=person(\"sai\",age,\"male\")\n",
    "obj1.func0()\n",
    "obj1.func1()\n"
   ]
  },
  {
   "cell_type": "code",
   "execution_count": 50,
   "metadata": {},
   "outputs": [
    {
     "name": "stdout",
     "output_type": "stream",
     "text": [
      "Number is odd\n"
     ]
    }
   ],
   "source": [
    "class num:\n",
    "    def __init__(self,number):\n",
    "        self.number=number\n",
    "    def func1(self):\n",
    "        if self.number%2==0:\n",
    "            print(\"Number is even\")\n",
    "        else:\n",
    "            print(\"Number is odd\")\n",
    "\n",
    "number=int(input(\"enter the number :\"))\n",
    "obj=num(number)\n",
    "obj.func1()            "
   ]
  },
  {
   "cell_type": "code",
   "execution_count": 54,
   "metadata": {},
   "outputs": [
    {
     "name": "stdout",
     "output_type": "stream",
     "text": [
      "Number is divisible by both 2 and 3\n"
     ]
    }
   ],
   "source": [
    "class div:\n",
    "    def __init__(self,num):\n",
    "        self.num=num\n",
    "    def func1(self):\n",
    "        if self.num%2==0 and num%3==0:\n",
    "            print(\"Number is divisible by both 2 and 3\")\n",
    "        else:\n",
    "            print(\"Number is not divisible by 2 and 3\")\n",
    "\n",
    "num=int(input(\"enter the number :\"))\n",
    "obj=div(num)\n",
    "obj.func1()\n"
   ]
  },
  {
   "cell_type": "code",
   "execution_count": 59,
   "metadata": {},
   "outputs": [
    {
     "name": "stdout",
     "output_type": "stream",
     "text": [
      "Invalid marks\n"
     ]
    }
   ],
   "source": [
    "class student:\n",
    "    def __init__(self,marks):\n",
    "        self.num=marks\n",
    "    def func1(self):\n",
    "        if self.num<25:\n",
    "            print(\"You got F grade\")\n",
    "        elif self.num>=25 and self.num<45:\n",
    "            print(\"You got D grade\")\n",
    "        elif self.num>=45 and self.num<50:\n",
    "            print(\"You got C grade\")\n",
    "        elif self.num>=50 and self.num<60:\n",
    "            print(\"You got B grade\")\n",
    "        elif self.num>=60 and self.num<80:\n",
    "            print(\"you got A grade\")\n",
    "        elif self.num>80 and self.num==100:\n",
    "            print(\"You got O grade\")\n",
    "        else:\n",
    "            print(\"Invalid marks\")\n",
    "\n",
    "marks=int(input(\"enter the marks :\"))\n",
    "obj=student(marks)\n",
    "obj.func1()"
   ]
  },
  {
   "cell_type": "code",
   "execution_count": 79,
   "metadata": {},
   "outputs": [
    {
     "name": "stdout",
     "output_type": "stream",
     "text": [
      "76.0\n",
      "you are eligible for exams\n"
     ]
    }
   ],
   "source": [
    "class student:\n",
    "    def __init__(self,x,y):\n",
    "        self.held=x\n",
    "        self.attended=y\n",
    "        percentage=(y/float(x))*100\n",
    "        print(percentage)\n",
    "    def func1(self):    \n",
    "        if self.attended>=75:\n",
    "            print(\"you are eligible for exams\")\n",
    "        else:\n",
    "            print(\"You are Not eligible for exams\")\n",
    "\n",
    "x=int(input(\"enter the number of classes held\"))\n",
    "y=int(input(\"Enter the number of classes attended\"))       \n",
    "obj=student(x,y)\n",
    "obj.func1()     "
   ]
  },
  {
   "cell_type": "code",
   "execution_count": 1,
   "metadata": {},
   "outputs": [
    {
     "name": "stdout",
     "output_type": "stream",
     "text": [
      "120\n"
     ]
    }
   ],
   "source": [
    "class Factorial:\n",
    "\n",
    "    def fact(self,n):\n",
    "        while n == 0:\n",
    "            return 1 \n",
    "        else:\n",
    "            return n * self.fact(n - 1)\n",
    "num = int(input())\n",
    "f = Factorial()\n",
    "print(f.fact(num))"
   ]
  },
  {
   "cell_type": "code",
   "execution_count": 6,
   "metadata": {},
   "outputs": [
    {
     "name": "stdout",
     "output_type": "stream",
     "text": [
      "id: 101\n",
      "name: sai\n",
      "salary: 20000\n"
     ]
    }
   ],
   "source": [
    "class employee:\n",
    "    def __init__(self,empid,empname,empsal):\n",
    "        self.id=empid\n",
    "        self.name=empname\n",
    "        self.sal=empsal\n",
    "\n",
    "    def func1(self):\n",
    "        print(\"id:\", self.id)\n",
    "        print(\"name:\",self.name)\n",
    "        print(\"salary:\", self.sal)\n",
    "\n",
    "obj=employee(101,\"sai\",20000)\n",
    "obj.func1()\n",
    "\n"
   ]
  },
  {
   "cell_type": "code",
   "execution_count": 19,
   "metadata": {},
   "outputs": [
    {
     "name": "stdout",
     "output_type": "stream",
     "text": [
      "Student name satya\n",
      "Student roll 201\n",
      "Student name 23\n",
      "Student name 83\n"
     ]
    }
   ],
   "source": [
    "class Student:\n",
    "    \n",
    "    def __init__(self,name,roll):\n",
    "        self.name = name\n",
    "        self.roll = roll\n",
    "      \n",
    "    def display(self):\n",
    "        print(\"Student name\",self.name)\n",
    "        print(\"Student roll\",self.roll)\n",
    "        print(\"Student name\",self.age)\n",
    "        print(\"Student name\",self.marks)\n",
    "    \n",
    "student = Student(\"satya\",201)\n",
    "setattr(student,\"age\",23)\n",
    "setattr(student,\"marks\",83)\n",
    "\n",
    "student.display()"
   ]
  },
  {
   "cell_type": "code",
   "execution_count": null,
   "metadata": {},
   "outputs": [],
   "source": []
  }
 ],
 "metadata": {
  "kernelspec": {
   "display_name": "Python 3",
   "language": "python",
   "name": "python3"
  },
  "language_info": {
   "codemirror_mode": {
    "name": "ipython",
    "version": 3
   },
   "file_extension": ".py",
   "mimetype": "text/x-python",
   "name": "python",
   "nbconvert_exporter": "python",
   "pygments_lexer": "ipython3",
   "version": "3.10.10"
  },
  "orig_nbformat": 4
 },
 "nbformat": 4,
 "nbformat_minor": 2
}
