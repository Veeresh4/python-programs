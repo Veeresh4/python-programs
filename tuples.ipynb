{
 "cells": [
  {
   "cell_type": "code",
   "execution_count": 7,
   "metadata": {},
   "outputs": [
    {
     "name": "stdout",
     "output_type": "stream",
     "text": [
      "('bike', 'car', 'plane', 'auto')\n"
     ]
    }
   ],
   "source": [
    "tuple=(\"bike\",\"car\",\"plane\",\"auto\")\n",
    "print(tuple)"
   ]
  },
  {
   "cell_type": "code",
   "execution_count": 8,
   "metadata": {},
   "outputs": [
    {
     "name": "stdout",
     "output_type": "stream",
     "text": [
      "('apple', 23, 76.4, True, False)\n"
     ]
    }
   ],
   "source": [
    "tuple=(\"apple\",23,76.4,True,False)\n",
    "print(tuple)"
   ]
  },
  {
   "cell_type": "code",
   "execution_count": 9,
   "metadata": {},
   "outputs": [
    {
     "name": "stdout",
     "output_type": "stream",
     "text": [
      "('car', 'plane')\n"
     ]
    }
   ],
   "source": [
    "tuple=(\"bike\",\"car\",\"plane\",\"auto\")\n",
    "print(tuple[1:-1])"
   ]
  },
  {
   "cell_type": "code",
   "execution_count": 10,
   "metadata": {},
   "outputs": [
    {
     "name": "stdout",
     "output_type": "stream",
     "text": [
      "yes\n"
     ]
    }
   ],
   "source": [
    "tuple=(\"bike\",\"car\",\"plane\",\"auto\")\n",
    "if \"bike\" in tuple:\n",
    "    print(\"yes\")"
   ]
  },
  {
   "cell_type": "code",
   "execution_count": 11,
   "metadata": {},
   "outputs": [
    {
     "ename": "TypeError",
     "evalue": "'tuple' object is not callable",
     "output_type": "error",
     "traceback": [
      "\u001b[1;31m---------------------------------------------------------------------------\u001b[0m",
      "\u001b[1;31mTypeError\u001b[0m                                 Traceback (most recent call last)",
      "Cell \u001b[1;32mIn[11], line 4\u001b[0m\n\u001b[0;32m      2\u001b[0m y\u001b[39m=\u001b[39m\u001b[39mlist\u001b[39m(x)\n\u001b[0;32m      3\u001b[0m y[\u001b[39m2\u001b[39m]\u001b[39m=\u001b[39m\u001b[39m\"\u001b[39m\u001b[39mbike\u001b[39m\u001b[39m\"\u001b[39m\n\u001b[1;32m----> 4\u001b[0m x\u001b[39m=\u001b[39m\u001b[39mtuple\u001b[39;49m(y)\n\u001b[0;32m      5\u001b[0m \u001b[39mprint\u001b[39m(x)\n",
      "\u001b[1;31mTypeError\u001b[0m: 'tuple' object is not callable"
     ]
    }
   ],
   "source": [
    "x=(\"auto\",\"jet\",\"plane\",\"car\")\n",
    "y=list(x)\n",
    "y[2]=\"bike\"\n",
    "x=tuple(y)\n",
    "print(x)"
   ]
  },
  {
   "cell_type": "code",
   "execution_count": 25,
   "metadata": {},
   "outputs": [
    {
     "ename": "TypeError",
     "evalue": "'tuple' object is not callable",
     "output_type": "error",
     "traceback": [
      "\u001b[1;31m---------------------------------------------------------------------------\u001b[0m",
      "\u001b[1;31mTypeError\u001b[0m                                 Traceback (most recent call last)",
      "Cell \u001b[1;32mIn[25], line 4\u001b[0m\n\u001b[0;32m      2\u001b[0m y \u001b[39m=\u001b[39m \u001b[39mlist\u001b[39m(thistuple)\n\u001b[0;32m      3\u001b[0m y\u001b[39m.\u001b[39mappend(\u001b[39m\"\u001b[39m\u001b[39morange\u001b[39m\u001b[39m\"\u001b[39m)\n\u001b[1;32m----> 4\u001b[0m thistuple \u001b[39m=\u001b[39m \u001b[39mtuple\u001b[39;49m(y)\n\u001b[0;32m      5\u001b[0m \u001b[39mprint\u001b[39m(thistuple)\n",
      "\u001b[1;31mTypeError\u001b[0m: 'tuple' object is not callable"
     ]
    }
   ],
   "source": [
    "thistuple = (\"apple\", \"banana\", \"cherry\")\n",
    "y = list(thistuple)\n",
    "y.append(\"orange\")\n",
    "thistuple = tuple(y)\n",
    "print(thistuple)\n"
   ]
  },
  {
   "cell_type": "code",
   "execution_count": 13,
   "metadata": {},
   "outputs": [
    {
     "name": "stdout",
     "output_type": "stream",
     "text": [
      "('apple', 'banana', 'cherry', 'orange')\n"
     ]
    }
   ],
   "source": [
    "#Add tuple to a tuple\n",
    "thistuple = (\"apple\", \"banana\", \"cherry\")\n",
    "y = (\"orange\",)\n",
    "thistuple =thistuple+ y\n",
    "print(thistuple)"
   ]
  },
  {
   "cell_type": "code",
   "execution_count": 26,
   "metadata": {},
   "outputs": [
    {
     "ename": "TypeError",
     "evalue": "'tuple' object is not callable",
     "output_type": "error",
     "traceback": [
      "\u001b[1;31m---------------------------------------------------------------------------\u001b[0m",
      "\u001b[1;31mTypeError\u001b[0m                                 Traceback (most recent call last)",
      "Cell \u001b[1;32mIn[26], line 4\u001b[0m\n\u001b[0;32m      2\u001b[0m y\u001b[39m=\u001b[39m\u001b[39mlist\u001b[39m(thistuple)\n\u001b[0;32m      3\u001b[0m y\u001b[39m.\u001b[39mremove(\u001b[39m\"\u001b[39m\u001b[39mbike\u001b[39m\u001b[39m\"\u001b[39m)\n\u001b[1;32m----> 4\u001b[0m thistuple\u001b[39m=\u001b[39m\u001b[39mtuple\u001b[39;49m(y)\n",
      "\u001b[1;31mTypeError\u001b[0m: 'tuple' object is not callable"
     ]
    }
   ],
   "source": [
    "thistuple=(\"car\",\"bike\",\"auto\",\"plane\")\n",
    "y=list(thistuple)\n",
    "y.remove(\"bike\")\n",
    "thistuple=tuple(y)"
   ]
  },
  {
   "cell_type": "code",
   "execution_count": 15,
   "metadata": {},
   "outputs": [
    {
     "name": "stdout",
     "output_type": "stream",
     "text": [
      "<class 'tuple'>\n"
     ]
    }
   ],
   "source": [
    "tuple=(\"car\",\"bike\",\"auto\",\"plane\")\n",
    "del tuple\n",
    "print(tuple)"
   ]
  },
  {
   "cell_type": "code",
   "execution_count": 16,
   "metadata": {},
   "outputs": [
    {
     "name": "stdout",
     "output_type": "stream",
     "text": [
      "car\n",
      "bike\n",
      "auto\n",
      "plane\n"
     ]
    }
   ],
   "source": [
    "#unpacking the tuple\n",
    "tuple=(\"car\",\"bike\",\"auto\",\"plane\")\n",
    "(red, green, blue,orange)=tuple\n",
    "print(red)\n",
    "print(green)\n",
    "print(blue)\n",
    "print(orange)"
   ]
  },
  {
   "cell_type": "code",
   "execution_count": 17,
   "metadata": {},
   "outputs": [
    {
     "name": "stdout",
     "output_type": "stream",
     "text": [
      "car\n",
      "bike\n",
      "['auto', 'plane']\n"
     ]
    }
   ],
   "source": [
    "tuple=(\"car\",\"bike\",\"auto\",\"plane\")\n",
    "(red, green, *blue,)=tuple\n",
    "print(red)\n",
    "print(green)\n",
    "print(blue)"
   ]
  },
  {
   "cell_type": "code",
   "execution_count": 18,
   "metadata": {},
   "outputs": [
    {
     "name": "stdout",
     "output_type": "stream",
     "text": [
      "car\n",
      "['bike', 'auto']\n",
      "plane\n"
     ]
    }
   ],
   "source": [
    "tuple=(\"car\",\"bike\",\"auto\",\"plane\")\n",
    "(red, *tropic, blue,)=tuple\n",
    "print(red)\n",
    "print(tropic)\n",
    "print(blue)"
   ]
  },
  {
   "cell_type": "code",
   "execution_count": 19,
   "metadata": {},
   "outputs": [
    {
     "name": "stdout",
     "output_type": "stream",
     "text": [
      "car\n",
      "bike\n",
      "auto\n",
      "plane\n"
     ]
    }
   ],
   "source": [
    "tuple=(\"car\",\"bike\",\"auto\",\"plane\")\n",
    "for x in tuple:\n",
    "    print(x)"
   ]
  },
  {
   "cell_type": "code",
   "execution_count": 20,
   "metadata": {},
   "outputs": [
    {
     "name": "stdout",
     "output_type": "stream",
     "text": [
      "car\n",
      "bike\n",
      "auto\n",
      "plane\n"
     ]
    }
   ],
   "source": [
    "tuple=(\"car\",\"bike\",\"auto\",\"plane\")\n",
    "for x in range(len(tuple)):\n",
    "    print(tuple[x])"
   ]
  },
  {
   "cell_type": "code",
   "execution_count": 21,
   "metadata": {},
   "outputs": [
    {
     "name": "stdout",
     "output_type": "stream",
     "text": [
      "car\n",
      "bike\n",
      "auto\n",
      "plane\n"
     ]
    }
   ],
   "source": [
    "thistuple=(\"car\",\"bike\",\"auto\",\"plane\")\n",
    "i=0\n",
    "while i<len(tuple):\n",
    "    print(tuple[i])\n",
    "    i=i+1"
   ]
  },
  {
   "cell_type": "code",
   "execution_count": 22,
   "metadata": {},
   "outputs": [
    {
     "name": "stdout",
     "output_type": "stream",
     "text": [
      "('car', 'bike', 'auto', 'plane', 'car', 'bike', 'auto', 'plane')\n"
     ]
    }
   ],
   "source": [
    "tuple1=(\"car\",\"bike\",\"auto\",\"plane\")\n",
    "tuple2=(\"car\",\"bike\",\"auto\",\"plane\")\n",
    "tuple3=tuple1+tuple2\n",
    "print(tuple3)"
   ]
  },
  {
   "cell_type": "code",
   "execution_count": 23,
   "metadata": {},
   "outputs": [
    {
     "name": "stdout",
     "output_type": "stream",
     "text": [
      "('car', 'bike', 'auto', 'plane', 'car', 'bike', 'auto', 'plane', 'car', 'bike', 'auto', 'plane')\n"
     ]
    }
   ],
   "source": [
    "thistuple=(\"car\",\"bike\",\"auto\",\"plane\")\n",
    "tuple=thistuple*3\n",
    "print(tuple)"
   ]
  }
 ],
 "metadata": {
  "kernelspec": {
   "display_name": "Python 3",
   "language": "python",
   "name": "python3"
  },
  "language_info": {
   "codemirror_mode": {
    "name": "ipython",
    "version": 3
   },
   "file_extension": ".py",
   "mimetype": "text/x-python",
   "name": "python",
   "nbconvert_exporter": "python",
   "pygments_lexer": "ipython3",
   "version": "3.10.10"
  },
  "orig_nbformat": 4
 },
 "nbformat": 4,
 "nbformat_minor": 2
}
