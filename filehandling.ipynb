{
 "cells": [
  {
   "cell_type": "code",
   "execution_count": 51,
   "metadata": {},
   "outputs": [
    {
     "name": "stdout",
     "output_type": "stream",
     "text": [
      "hello people\n",
      "im veeresh from east godavari\n",
      "\n",
      "I love to play video games\n"
     ]
    }
   ],
   "source": [
    "f= open(\"empty.txt\",\"r\")\n",
    "print(f.read())"
   ]
  },
  {
   "cell_type": "code",
   "execution_count": 34,
   "metadata": {},
   "outputs": [
    {
     "name": "stdout",
     "output_type": "stream",
     "text": [
      "hello people\n",
      "im\n"
     ]
    }
   ],
   "source": [
    "f=open(\"empty.txt\",\"r\")\n",
    "print(f.read(15))"
   ]
  },
  {
   "cell_type": "code",
   "execution_count": 52,
   "metadata": {},
   "outputs": [
    {
     "name": "stdout",
     "output_type": "stream",
     "text": [
      "hello people\n",
      "\n",
      "im veeresh from east godavari\n",
      "\n"
     ]
    }
   ],
   "source": [
    "f=open(\"empty.txt\",\"r\")\n",
    "print(f.readline())\n",
    "print(f.readline())"
   ]
  },
  {
   "cell_type": "code",
   "execution_count": 49,
   "metadata": {},
   "outputs": [
    {
     "name": "stdout",
     "output_type": "stream",
     "text": [
      "['hello people\\n', 'im veeresh from east godavari\\n', '\\n', 'I love to play video games']\n"
     ]
    }
   ],
   "source": [
    "f=open(\"empty.txt\",\"r\")\n",
    "print(f.readlines())\n",
    "f.close()"
   ]
  },
  {
   "cell_type": "code",
   "execution_count": 48,
   "metadata": {},
   "outputs": [
    {
     "name": "stdout",
     "output_type": "stream",
     "text": [
      "hello people\n",
      "im veeresh from east godavari\n",
      "\n",
      "I love to play video games\n"
     ]
    }
   ],
   "source": [
    "f=open(\"empty.txt\",\"a\")\n",
    "f.write(\"\\nI love to play video games\")\n",
    "f=open(\"empty.txt\",\"r\")\n",
    "print(f.read())"
   ]
  },
  {
   "cell_type": "code",
   "execution_count": 9,
   "metadata": {},
   "outputs": [
    {
     "name": "stdout",
     "output_type": "stream",
     "text": [
      "hello people\n",
      "im veeresh from east godavari\n",
      "\n",
      "I love to play video games\n"
     ]
    }
   ],
   "source": [
    "with open(\"empty.txt\") as f:\n",
    "    file=f.read()    \n",
    "    print(file)"
   ]
  },
  {
   "cell_type": "code",
   "execution_count": 5,
   "metadata": {},
   "outputs": [
    {
     "name": "stdout",
     "output_type": "stream",
     "text": [
      "Python syntax is familiar to english\n",
      "python is popular language\n"
     ]
    }
   ],
   "source": [
    "f = open(\"empty2.txt\", \"a\")\n",
    "f.write(\"Python syntax is familiar to english\")\n",
    "f.write(\"\\npython is popular language\")\n",
    "f.close()\n",
    "\n",
    "f = open(\"empty2.txt\", \"r\")\n",
    "print(f.read())"
   ]
  },
  {
   "cell_type": "code",
   "execution_count": null,
   "metadata": {},
   "outputs": [],
   "source": []
  }
 ],
 "metadata": {
  "kernelspec": {
   "display_name": "Python 3",
   "language": "python",
   "name": "python3"
  },
  "language_info": {
   "codemirror_mode": {
    "name": "ipython",
    "version": 3
   },
   "file_extension": ".py",
   "mimetype": "text/x-python",
   "name": "python",
   "nbconvert_exporter": "python",
   "pygments_lexer": "ipython3",
   "version": "3.10.10"
  },
  "orig_nbformat": 4
 },
 "nbformat": 4,
 "nbformat_minor": 2
}
