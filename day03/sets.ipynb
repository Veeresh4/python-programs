{
 "cells": [
  {
   "cell_type": "code",
   "execution_count": 11,
   "metadata": {},
   "outputs": [
    {
     "name": "stdout",
     "output_type": "stream",
     "text": [
      "{'mg', 'audi', 'kia', 'bmw'}\n"
     ]
    }
   ],
   "source": [
    "set={\"bmw\",\"audi\",\"kia\",\"mg\"}\n",
    "print(set)"
   ]
  },
  {
   "cell_type": "code",
   "execution_count": 12,
   "metadata": {},
   "outputs": [
    {
     "name": "stdout",
     "output_type": "stream",
     "text": [
      "{'mg', 'audi', 'kia', 'bmw'}\n"
     ]
    }
   ],
   "source": [
    "set={\"bmw\",\"audi\",\"kia\",\"mg\",\"bmw\"}\n",
    "print(set)"
   ]
  },
  {
   "cell_type": "code",
   "execution_count": 19,
   "metadata": {},
   "outputs": [
    {
     "name": "stdout",
     "output_type": "stream",
     "text": [
      "{True, 2.4, 'mg', 'kia', 'bmw', 10, 'audi'}\n"
     ]
    }
   ],
   "source": [
    "set={\"bmw\",\"audi\",\"kia\",\"mg\",True,10,2.4,}\n",
    "print(set)"
   ]
  },
  {
   "cell_type": "code",
   "execution_count": 26,
   "metadata": {},
   "outputs": [
    {
     "name": "stdout",
     "output_type": "stream",
     "text": [
      "mg\n",
      "audi\n",
      "kia\n",
      "bmw\n"
     ]
    }
   ],
   "source": [
    "set={\"bmw\",\"audi\",\"kia\",\"mg\"}\n",
    "for x in set:\n",
    "    print(x)"
   ]
  },
  {
   "cell_type": "code",
   "execution_count": 27,
   "metadata": {},
   "outputs": [
    {
     "name": "stdout",
     "output_type": "stream",
     "text": [
      "True\n"
     ]
    }
   ],
   "source": [
    "set={\"bmw\",\"audi\",\"kia\",\"mg\"}\n",
    "print(\"kia\" in set)"
   ]
  },
  {
   "cell_type": "code",
   "execution_count": 28,
   "metadata": {},
   "outputs": [
    {
     "name": "stdout",
     "output_type": "stream",
     "text": [
      "{'kia', 'mg', 'bmw', 'benz', 'audi'}\n"
     ]
    }
   ],
   "source": [
    "set={\"bmw\",\"audi\",\"kia\",\"mg\"}\n",
    "set.add(\"benz\")\n",
    "print(set)"
   ]
  },
  {
   "cell_type": "code",
   "execution_count": 29,
   "metadata": {},
   "outputs": [
    {
     "name": "stdout",
     "output_type": "stream",
     "text": [
      "{'kiwi', 'kia', 'orange', 'grapes', 'mg', 'bmw', 'audi', 'apple'}\n"
     ]
    }
   ],
   "source": [
    "set={\"bmw\",\"audi\",\"kia\",\"mg\"}\n",
    "thisset={\"apple\",\"orange\",\"kiwi\",\"grapes\"}\n",
    "set.update(thisset)\n",
    "print(set)"
   ]
  },
  {
   "cell_type": "code",
   "execution_count": 32,
   "metadata": {},
   "outputs": [
    {
     "name": "stdout",
     "output_type": "stream",
     "text": [
      "{'kiwi', 'kia', 'orange', 'grapes', 'mg', 'bmw', 'audi', 'apple'}\n"
     ]
    }
   ],
   "source": [
    "set={\"bmw\",\"audi\",\"kia\",\"mg\"}\n",
    "list=[\"apple\",\"orange\",\"kiwi\",\"grapes\"]\n",
    "set.update(list)\n",
    "print(set)"
   ]
  },
  {
   "cell_type": "code",
   "execution_count": 34,
   "metadata": {},
   "outputs": [
    {
     "name": "stdout",
     "output_type": "stream",
     "text": [
      "{'mg', 'kia', 'bmw'}\n"
     ]
    }
   ],
   "source": [
    "set={\"bmw\",\"audi\",\"kia\",\"mg\"}\n",
    "set.discard(\"audi\")\n",
    "print(set)"
   ]
  },
  {
   "cell_type": "code",
   "execution_count": 35,
   "metadata": {},
   "outputs": [
    {
     "name": "stdout",
     "output_type": "stream",
     "text": [
      "{'mg', 'kia', 'bmw'}\n"
     ]
    }
   ],
   "source": [
    "set={\"bmw\",\"audi\",\"kia\",\"mg\"}\n",
    "set.remove(\"audi\")\n",
    "print(set)"
   ]
  },
  {
   "cell_type": "code",
   "execution_count": 42,
   "metadata": {},
   "outputs": [
    {
     "name": "stdout",
     "output_type": "stream",
     "text": [
      "{'audi', 'kia', 'bmw'}\n"
     ]
    }
   ],
   "source": [
    "set={\"bmw\",\"audi\",\"kia\",\"mg\"}\n",
    "set.pop()\n",
    "print(set)"
   ]
  },
  {
   "cell_type": "code",
   "execution_count": 44,
   "metadata": {},
   "outputs": [
    {
     "name": "stdout",
     "output_type": "stream",
     "text": [
      "set()\n"
     ]
    }
   ],
   "source": [
    "set={\"bmw\",\"audi\",\"kia\",\"mg\"}\n",
    "set.clear()\n",
    "print(set)"
   ]
  },
  {
   "cell_type": "code",
   "execution_count": 45,
   "metadata": {},
   "outputs": [
    {
     "name": "stdout",
     "output_type": "stream",
     "text": [
      "<class 'set'>\n"
     ]
    }
   ],
   "source": [
    "set={\"bmw\",\"audi\",\"kia\",\"mg\"}\n",
    "del set\n",
    "print(set)"
   ]
  },
  {
   "cell_type": "code",
   "execution_count": 46,
   "metadata": {},
   "outputs": [
    {
     "name": "stdout",
     "output_type": "stream",
     "text": [
      "{'kiwi', 'kia', 'orange', 'grapes', 'mg', 'bmw', 'audi', 'apple'}\n"
     ]
    }
   ],
   "source": [
    "set={\"bmw\",\"audi\",\"kia\",\"mg\"}\n",
    "thisset={\"apple\",\"orange\",\"kiwi\",\"grapes\"}\n",
    "set2=set.union(thisset)\n",
    "print(set2)"
   ]
  },
  {
   "cell_type": "code",
   "execution_count": 52,
   "metadata": {},
   "outputs": [
    {
     "name": "stdout",
     "output_type": "stream",
     "text": [
      "{'mg'}\n"
     ]
    }
   ],
   "source": [
    "set={\"bmw\",\"audi\",\"kia\",\"mg\"}\n",
    "thisset={\"apple\",\"orange\",\"kiwi\",\"grapes\",\"mg\"}\n",
    "set.intersection_update(thisset)\n",
    "print(set)"
   ]
  },
  {
   "cell_type": "code",
   "execution_count": 50,
   "metadata": {},
   "outputs": [
    {
     "name": "stdout",
     "output_type": "stream",
     "text": [
      "{'cherry', 'apple'}\n"
     ]
    }
   ],
   "source": [
    "set = {\"apple\", \"banana\", \"cherry\"}\n",
    "thisset = {\"google\", \"microsoft\", \"apple\",\"cherry\"}\n",
    "set2 = set.intersection(thisset)\n",
    "print(set2)"
   ]
  },
  {
   "cell_type": "code",
   "execution_count": 54,
   "metadata": {},
   "outputs": [
    {
     "name": "stdout",
     "output_type": "stream",
     "text": [
      "{'cherry', 'banana', 'google', 'microsoft'}\n"
     ]
    }
   ],
   "source": [
    "x = {\"apple\", \"banana\", \"cherry\"}\n",
    "y = {\"google\", \"microsoft\", \"apple\"}\n",
    "x.symmetric_difference_update(y)\n",
    "print(x)"
   ]
  },
  {
   "cell_type": "code",
   "execution_count": 55,
   "metadata": {},
   "outputs": [
    {
     "name": "stdout",
     "output_type": "stream",
     "text": [
      "{'microsoft', 'cherry', 'google', 'banana'}\n"
     ]
    }
   ],
   "source": [
    "x = {\"apple\", \"banana\", \"cherry\"}\n",
    "y = {\"google\", \"microsoft\", \"apple\"}\n",
    "\n",
    "z = x.symmetric_difference(y)\n",
    "\n",
    "print(z)"
   ]
  }
 ],
 "metadata": {
  "kernelspec": {
   "display_name": "Python 3",
   "language": "python",
   "name": "python3"
  },
  "language_info": {
   "codemirror_mode": {
    "name": "ipython",
    "version": 3
   },
   "file_extension": ".py",
   "mimetype": "text/x-python",
   "name": "python",
   "nbconvert_exporter": "python",
   "pygments_lexer": "ipython3",
   "version": "3.10.10"
  },
  "orig_nbformat": 4
 },
 "nbformat": 4,
 "nbformat_minor": 2
}
