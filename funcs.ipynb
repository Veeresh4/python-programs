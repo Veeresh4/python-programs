{
 "cells": [
  {
   "cell_type": "code",
   "execution_count": 4,
   "metadata": {},
   "outputs": [],
   "source": [
    "#functions\n",
    "def greet():\n",
    "    print(\"hello people\")"
   ]
  },
  {
   "cell_type": "code",
   "execution_count": 3,
   "metadata": {},
   "outputs": [
    {
     "name": "stdout",
     "output_type": "stream",
     "text": [
      "hello people\n"
     ]
    }
   ],
   "source": [
    "#calling a function\n",
    "def greet():\n",
    "    print(\"hello people\")\n",
    "\n",
    "\n",
    "greet()"
   ]
  },
  {
   "cell_type": "code",
   "execution_count": 10,
   "metadata": {},
   "outputs": [
    {
     "name": "stdout",
     "output_type": "stream",
     "text": [
      "hello! veeresh\n"
     ]
    }
   ],
   "source": [
    "def name(name):\n",
    "    print(\"hello!\",name)\n",
    "\n",
    "name(\"veeresh\")"
   ]
  },
  {
   "cell_type": "code",
   "execution_count": 1,
   "metadata": {},
   "outputs": [
    {
     "name": "stdout",
     "output_type": "stream",
     "text": [
      "bmw is best in cars\n"
     ]
    }
   ],
   "source": [
    "def vehicle(car):\n",
    "    print(car,\"is best in cars\")\n",
    "\n",
    "vehicle(\"bmw\")"
   ]
  },
  {
   "cell_type": "code",
   "execution_count": 18,
   "metadata": {},
   "outputs": [
    {
     "name": "stdout",
     "output_type": "stream",
     "text": [
      "Bmw bike is in best design\n",
      "Ktm bike is in best design\n",
      "Ninja bike is in best design\n"
     ]
    }
   ],
   "source": [
    "#passing arguments\n",
    "def vehicle(bike):\n",
    "    print(bike,\"bike is in best design\")\n",
    "\n",
    "\n",
    "vehicle(\"Bmw\")\n",
    "vehicle(\"Ktm\")\n",
    "vehicle(\"Ninja\")"
   ]
  },
  {
   "cell_type": "code",
   "execution_count": 26,
   "metadata": {},
   "outputs": [
    {
     "name": "stdout",
     "output_type": "stream",
     "text": [
      "veeresh\n",
      "Pasagadugula\n"
     ]
    }
   ],
   "source": [
    "def name(name1):\n",
    "    print(name1)\n",
    "\n",
    "    \n",
    "name(\"veeresh\")\n",
    "name(\"Pasagadugula\")"
   ]
  },
  {
   "cell_type": "code",
   "execution_count": 31,
   "metadata": {},
   "outputs": [
    {
     "name": "stdout",
     "output_type": "stream",
     "text": [
      "Veeresh Pasagadugula\n"
     ]
    }
   ],
   "source": [
    "def name(name1,name2):\n",
    "    print(name1,name2)\n",
    "\n",
    "    \n",
    "name(\"Veeresh\",\"Pasagadugula\")"
   ]
  },
  {
   "cell_type": "code",
   "execution_count": 2,
   "metadata": {},
   "outputs": [
    {
     "name": "stdout",
     "output_type": "stream",
     "text": [
      "enfield\n"
     ]
    }
   ],
   "source": [
    "#arbitary arguments in this we use index values\n",
    "def vehicles(*bikes):\n",
    "    print(bikes[2],)\n",
    "\n",
    "\n",
    "vehicles(\"bmw\",\"ninja\",\"enfield\")"
   ]
  },
  {
   "cell_type": "code",
   "execution_count": 3,
   "metadata": {},
   "outputs": [
    {
     "name": "stdout",
     "output_type": "stream",
     "text": [
      "ninja is very cool and awesome design\n"
     ]
    }
   ],
   "source": [
    "#keyword arguments\n",
    "def vehicles(bike1,bike2,bike3):\n",
    "    print(bike2,\"is very cool and awesome design\")\n",
    "\n",
    "\n",
    "vehicles(bike1=\"bmw\",bike2=\"ninja\",bike3=\"ktm\")    "
   ]
  },
  {
   "cell_type": "code",
   "execution_count": 44,
   "metadata": {},
   "outputs": [
    {
     "name": "stdout",
     "output_type": "stream",
     "text": [
      "ninja bike is high level integrated design\n"
     ]
    }
   ],
   "source": [
    "#arbitray keyword arguments in this we use key value.\n",
    "def vehicles(**bikes):\n",
    "    print(bikes[\"bike2\"],\"bike is high level integrated design\")\n",
    "\n",
    "\n",
    "vehicles(bike1=\"bmw\",bike2=\"ninja\")"
   ]
  },
  {
   "cell_type": "code",
   "execution_count": 8,
   "metadata": {},
   "outputs": [
    {
     "name": "stdout",
     "output_type": "stream",
     "text": [
      "paris one of the best city\n"
     ]
    }
   ],
   "source": [
    "def country(country=\"paris\"):\n",
    "    print(country,\"one of the best city\")\n",
    "\n",
    "\n",
    "country()"
   ]
  },
  {
   "cell_type": "code",
   "execution_count": 1,
   "metadata": {},
   "outputs": [
    {
     "name": "stdout",
     "output_type": "stream",
     "text": [
      "orange\n",
      "kiwi\n",
      "cherry\n",
      "mango\n"
     ]
    }
   ],
   "source": [
    "def name(food):\n",
    "    for x in food:\n",
    "        print(x)\n",
    "\n",
    "fruits=[\"orange\",\"kiwi\",\"cherry\",\"mango\"]\n",
    "name(fruits)        "
   ]
  },
  {
   "cell_type": "code",
   "execution_count": 4,
   "metadata": {},
   "outputs": [
    {
     "name": "stdout",
     "output_type": "stream",
     "text": [
      "16\n",
      "20\n",
      "24\n"
     ]
    }
   ],
   "source": [
    "def name(x):\n",
    "    return 4 * x\n",
    "print(name(4))\n",
    "print(name(5))\n",
    "print(name(6))"
   ]
  },
  {
   "cell_type": "code",
   "execution_count": 6,
   "metadata": {},
   "outputs": [],
   "source": [
    "def func1():\n",
    "    pass"
   ]
  },
  {
   "cell_type": "code",
   "execution_count": null,
   "metadata": {},
   "outputs": [],
   "source": []
  }
 ],
 "metadata": {
  "kernelspec": {
   "display_name": "Python 3",
   "language": "python",
   "name": "python3"
  },
  "language_info": {
   "codemirror_mode": {
    "name": "ipython",
    "version": 3
   },
   "file_extension": ".py",
   "mimetype": "text/x-python",
   "name": "python",
   "nbconvert_exporter": "python",
   "pygments_lexer": "ipython3",
   "version": "3.10.10"
  },
  "orig_nbformat": 4
 },
 "nbformat": 4,
 "nbformat_minor": 2
}
