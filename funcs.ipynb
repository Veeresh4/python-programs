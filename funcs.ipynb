{
 "cells": [
  {
   "cell_type": "code",
   "execution_count": 4,
   "metadata": {},
   "outputs": [],
   "source": [
    "#functions\n",
    "def greet():\n",
    "    print(\"hello people\")"
   ]
  },
  {
   "cell_type": "code",
   "execution_count": 3,
   "metadata": {},
   "outputs": [
    {
     "name": "stdout",
     "output_type": "stream",
     "text": [
      "hello people\n"
     ]
    }
   ],
   "source": [
    "#calling a function\n",
    "def greet():\n",
    "    print(\"hello people\")\n",
    "\n",
    "\n",
    "greet()"
   ]
  },
  {
   "cell_type": "code",
   "execution_count": 10,
   "metadata": {},
   "outputs": [
    {
     "name": "stdout",
     "output_type": "stream",
     "text": [
      "hello! veeresh\n"
     ]
    }
   ],
   "source": [
    "def name(name):\n",
    "    print(\"hello!\",name)\n",
    "\n",
    "name(\"veeresh\")"
   ]
  },
  {
   "cell_type": "code",
   "execution_count": 1,
   "metadata": {},
   "outputs": [
    {
     "name": "stdout",
     "output_type": "stream",
     "text": [
      "bmw is best in cars\n"
     ]
    }
   ],
   "source": [
    "def vehicle(car):\n",
    "    print(car,\"is best in cars\")\n",
    "\n",
    "vehicle(\"bmw\")"
   ]
  },
  {
   "cell_type": "code",
   "execution_count": 18,
   "metadata": {},
   "outputs": [
    {
     "name": "stdout",
     "output_type": "stream",
     "text": [
      "Bmw bike is in best design\n",
      "Ktm bike is in best design\n",
      "Ninja bike is in best design\n"
     ]
    }
   ],
   "source": [
    "#passing arguments\n",
    "def vehicle(bike):\n",
    "    print(bike,\"bike is in best design\")\n",
    "\n",
    "\n",
    "vehicle(\"Bmw\")\n",
    "vehicle(\"Ktm\")\n",
    "vehicle(\"Ninja\")"
   ]
  },
  {
   "cell_type": "code",
   "execution_count": 26,
   "metadata": {},
   "outputs": [
    {
     "name": "stdout",
     "output_type": "stream",
     "text": [
      "veeresh\n",
      "Pasagadugula\n"
     ]
    }
   ],
   "source": [
    "def name(name1):\n",
    "    print(name1)\n",
    "\n",
    "    \n",
    "name(\"veeresh\")\n",
    "name(\"Pasagadugula\")"
   ]
  },
  {
   "cell_type": "code",
   "execution_count": 31,
   "metadata": {},
   "outputs": [
    {
     "name": "stdout",
     "output_type": "stream",
     "text": [
      "Veeresh Pasagadugula\n"
     ]
    }
   ],
   "source": [
    "def name(name1,name2):\n",
    "    print(name1,name2)\n",
    "\n",
    "    \n",
    "name(\"Veeresh\",\"Pasagadugula\")"
   ]
  },
  {
   "cell_type": "code",
   "execution_count": 2,
   "metadata": {},
   "outputs": [
    {
     "name": "stdout",
     "output_type": "stream",
     "text": [
      "enfield\n"
     ]
    }
   ],
   "source": [
    "#arbitary arguments in this we use index values\n",
    "def vehicles(*bikes):\n",
    "    print(bikes[2],)\n",
    "\n",
    "\n",
    "vehicles(\"bmw\",\"ninja\",\"enfield\")"
   ]
  },
  {
   "cell_type": "code",
   "execution_count": 3,
   "metadata": {},
   "outputs": [
    {
     "name": "stdout",
     "output_type": "stream",
     "text": [
      "ninja is very cool and awesome design\n"
     ]
    }
   ],
   "source": [
    "#keyword arguments\n",
    "def vehicles(bike1,bike2,bike3):\n",
    "    print(bike2,\"is very cool and awesome design\")\n",
    "\n",
    "\n",
    "vehicles(bike1=\"bmw\",bike2=\"ninja\",bike3=\"ktm\")    "
   ]
  },
  {
   "cell_type": "code",
   "execution_count": 44,
   "metadata": {},
   "outputs": [
    {
     "name": "stdout",
     "output_type": "stream",
     "text": [
      "ninja bike is high level integrated design\n"
     ]
    }
   ],
   "source": [
    "#arbitray keyword arguments in this we use key value.\n",
    "def vehicles(**bikes):\n",
    "    print(bikes[\"bike2\"],\"bike is high level integrated design\")\n",
    "\n",
    "\n",
    "vehicles(bike1=\"bmw\",bike2=\"ninja\")"
   ]
  },
  {
   "cell_type": "code",
   "execution_count": 8,
   "metadata": {},
   "outputs": [
    {
     "name": "stdout",
     "output_type": "stream",
     "text": [
      "paris one of the best city\n"
     ]
    }
   ],
   "source": [
    "def country(country=\"paris\"):\n",
    "    print(country,\"one of the best city\")\n",
    "\n",
    "\n",
    "country()"
   ]
  },
  {
   "cell_type": "code",
   "execution_count": 1,
   "metadata": {},
   "outputs": [
    {
     "name": "stdout",
     "output_type": "stream",
     "text": [
      "orange\n",
      "kiwi\n",
      "cherry\n",
      "mango\n"
     ]
    }
   ],
   "source": [
    "def name(food):\n",
    "    for x in food:\n",
    "        print(x)\n",
    "\n",
    "fruits=[\"orange\",\"kiwi\",\"cherry\",\"mango\"]\n",
    "name(fruits)        "
   ]
  },
  {
   "cell_type": "code",
   "execution_count": 4,
   "metadata": {},
   "outputs": [
    {
     "name": "stdout",
     "output_type": "stream",
     "text": [
      "16\n",
      "20\n",
      "24\n"
     ]
    }
   ],
   "source": [
    "def name(x):\n",
    "    return 4 * x\n",
    "print(name(4))\n",
    "print(name(5))\n",
    "print(name(6))"
   ]
  },
  {
   "cell_type": "code",
   "execution_count": 6,
   "metadata": {},
   "outputs": [],
   "source": [
    "def func1():\n",
    "    pass"
   ]
  },
  {
   "cell_type": "code",
   "execution_count": 37,
   "metadata": {},
   "outputs": [
    {
     "name": "stdout",
     "output_type": "stream",
     "text": [
      "25\n"
     ]
    }
   ],
   "source": [
    "#user defined function\n",
    "def square(number):\n",
    "    return number**2\n",
    "\n",
    "result=square(5)\n",
    "print(result)"
   ]
  },
  {
   "cell_type": "code",
   "execution_count": 21,
   "metadata": {},
   "outputs": [
    {
     "name": "stdout",
     "output_type": "stream",
     "text": [
      "18\n"
     ]
    }
   ],
   "source": [
    "def func(string):\n",
    "    return(len(string))\n",
    "\n",
    "print((func(\"Python Programming\")))\n"
   ]
  },
  {
   "cell_type": "code",
   "execution_count": 29,
   "metadata": {},
   "outputs": [
    {
     "name": "stdout",
     "output_type": "stream",
     "text": [
      "passing only one argument\n",
      "number 1 : 20\n",
      "number 2 : 25\n",
      "passing two arguments\n",
      "number 1 : 50\n",
      "number 2 : 60\n"
     ]
    }
   ],
   "source": [
    "#default arguments\n",
    "def num(n1,n2=25):\n",
    "    print(\"number 1 :\",n1)\n",
    "    print(\"number 2 :\",n2)\n",
    "\n",
    "print(\"passing only one argument\")\n",
    "num(20)\n",
    "\n",
    "print(\"passing two arguments\")\n",
    "num(50,60)\n",
    " "
   ]
  },
  {
   "cell_type": "code",
   "execution_count": 31,
   "metadata": {},
   "outputs": [
    {
     "name": "stdout",
     "output_type": "stream",
     "text": [
      "without using keyword\n",
      "number 1 : 20\n",
      "number 2 : 30\n",
      "with using keyword\n",
      "number 1 : 50\n",
      "number 2 : 60\n"
     ]
    }
   ],
   "source": [
    "#Keyword arguments\n",
    "def num(n1,n2):\n",
    "    print(\"number 1 :\",n1)\n",
    "    print(\"number 2 :\",n2)\n",
    "\n",
    "print(\"without using keyword\")\n",
    "num(20,30)\n",
    "\n",
    "print(\"with using keyword\")\n",
    "num(n1=50,n2=60)\n",
    " "
   ]
  },
  {
   "cell_type": "code",
   "execution_count": 35,
   "metadata": {},
   "outputs": [
    {
     "name": "stdout",
     "output_type": "stream",
     "text": [
      "passing out of order argument\n",
      "number 1 : 30\n",
      "Number 2 : 20\n",
      "passing only one argument\n",
      "Function need two positinal arguments\n"
     ]
    }
   ],
   "source": [
    "#required arguments\n",
    "def num(n1,n2):\n",
    "    print(\"number 1 :\",n1)\n",
    "    print(\"Number 2 :\",n2)\n",
    "\n",
    "print(\"passing out of order argument\")\n",
    "num(30,20)\n",
    "\n",
    "print(\"passing only one argument\")\n",
    "try:\n",
    "    num(30)\n",
    "except:\n",
    "    print(\"Function need two positinal arguments\")"
   ]
  },
  {
   "cell_type": "code",
   "execution_count": 1,
   "metadata": {},
   "outputs": [
    {
     "name": "stdout",
     "output_type": "stream",
     "text": [
      "11\n"
     ]
    }
   ],
   "source": [
    "func = lambda x,y: x+y \n",
    "print(func(5,6))"
   ]
  },
  {
   "cell_type": "code",
   "execution_count": 15,
   "metadata": {},
   "outputs": [
    {
     "name": "stdout",
     "output_type": "stream",
     "text": [
      "13\n"
     ]
    }
   ],
   "source": [
    "add= lambda num:num+7\n",
    "print(add(6))"
   ]
  },
  {
   "cell_type": "code",
   "execution_count": 6,
   "metadata": {},
   "outputs": [
    {
     "name": "stdout",
     "output_type": "stream",
     "text": [
      "44\n"
     ]
    }
   ],
   "source": [
    "def func(n):\n",
    "    return lambda x:x*n\n",
    "\n",
    "result=func(4)\n",
    "print(result(11))\n"
   ]
  },
  {
   "cell_type": "code",
   "execution_count": 14,
   "metadata": {},
   "outputs": [
    {
     "name": "stdout",
     "output_type": "stream",
     "text": [
      "Python programming\n"
     ]
    }
   ],
   "source": [
    "def func(string):\n",
    "    return lambda x: x + string\n",
    "result=func(\" programming\")\n",
    "print(result(\"Python\"))"
   ]
  },
  {
   "cell_type": "code",
   "execution_count": 18,
   "metadata": {},
   "outputs": [
    {
     "name": "stdout",
     "output_type": "stream",
     "text": [
      "0.01\n",
      "0.009009009009009009\n"
     ]
    }
   ],
   "source": [
    "def reciprocal(number):\n",
    "    return 1/number\n",
    "\n",
    "reciprocal = lambda number: 1/number\n",
    "print(reciprocal(100))\n",
    "print(reciprocal(111))"
   ]
  },
  {
   "cell_type": "code",
   "execution_count": 20,
   "metadata": {},
   "outputs": [
    {
     "name": "stdout",
     "output_type": "stream",
     "text": [
      "729\n",
      "512\n"
     ]
    }
   ],
   "source": [
    "def cube(x):\n",
    "    return x*x*x\n",
    "\n",
    "cube=lambda x:x*x*x\n",
    "print(cube(9))\n",
    "print(cube(8))"
   ]
  },
  {
   "cell_type": "code",
   "execution_count": 26,
   "metadata": {},
   "outputs": [
    {
     "name": "stdout",
     "output_type": "stream",
     "text": [
      "Python Programming\n",
      "23\n",
      "Python Programming\n",
      "23\n"
     ]
    }
   ],
   "source": [
    "def word():\n",
    "    string=\"Python Programming\"\n",
    "    x=23\n",
    "    def num():\n",
    "        print(string)\n",
    "        print(x)\n",
    "\n",
    "    num()\n",
    "word()      "
   ]
  },
  {
   "cell_type": "code",
   "execution_count": 27,
   "metadata": {},
   "outputs": [
    {
     "name": "stdout",
     "output_type": "stream",
     "text": [
      "HELLO PEOPLE\n"
     ]
    }
   ],
   "source": [
    "string=\"hello people\"\n",
    "\n",
    "func=lambda string:string.upper()\n",
    "print(func(string))\n"
   ]
  },
  {
   "cell_type": "code",
   "execution_count": 34,
   "metadata": {},
   "outputs": [
    {
     "name": "stdout",
     "output_type": "stream",
     "text": [
      "['DOG', 'CAT', 'HORSE', 'RABBIT', 'LION']\n"
     ]
    }
   ],
   "source": [
    "animals=[\"dog\",\"cat\",\"horse\",\"rabbit\",\"lion\"]\n",
    "\n",
    "animals1=list(map(lambda animal:animal.upper(),animals))\n",
    "print(animals1)"
   ]
  },
  {
   "cell_type": "code",
   "execution_count": 51,
   "metadata": {},
   "outputs": [
    {
     "name": "stdout",
     "output_type": "stream",
     "text": [
      "[5, 12, 6, 5, 26, 16, 11, 10]\n"
     ]
    }
   ],
   "source": [
    "num=[10,24,12,11,53,32,23,21]\n",
    "number2=list(map(lambda num:(num // 2),num))\n",
    "print(number2)"
   ]
  },
  {
   "cell_type": "code",
   "execution_count": 37,
   "metadata": {},
   "outputs": [
    {
     "name": "stdout",
     "output_type": "stream",
     "text": [
      "[4, 4, 6, 2]\n"
     ]
    }
   ],
   "source": [
    "num=[4,5,7,9,3,4,6,2]\n",
    "number1=list(filter(lambda num:(num % 2==0),num))\n",
    "print(number1)"
   ]
  },
  {
   "cell_type": "code",
   "execution_count": 45,
   "metadata": {},
   "outputs": [
    {
     "name": "stdout",
     "output_type": "stream",
     "text": [
      "[14, 13, 17, 18]\n"
     ]
    }
   ],
   "source": [
    "age=[19,25,23,42,14,13,17,18]\n",
    "age1=list(filter(lambda age:(age<=18),age))\n",
    "print(age1)"
   ]
  },
  {
   "cell_type": "code",
   "execution_count": 56,
   "metadata": {},
   "outputs": [
    {
     "name": "stdout",
     "output_type": "stream",
     "text": [
      "45\n"
     ]
    }
   ],
   "source": [
    "from functools import reduce\n",
    "list=[1,2,3,4,5,6,7,8,9]\n",
    "sum=reduce((lambda x,y:x+y),list)\n",
    "print(sum)"
   ]
  }
 ],
 "metadata": {
  "kernelspec": {
   "display_name": "Python 3",
   "language": "python",
   "name": "python3"
  },
  "language_info": {
   "codemirror_mode": {
    "name": "ipython",
    "version": 3
   },
   "file_extension": ".py",
   "mimetype": "text/x-python",
   "name": "python",
   "nbconvert_exporter": "python",
   "pygments_lexer": "ipython3",
   "version": "3.10.10"
  },
  "orig_nbformat": 4
 },
 "nbformat": 4,
 "nbformat_minor": 2
}
