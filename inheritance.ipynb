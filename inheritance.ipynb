{
 "cells": [
  {
   "cell_type": "code",
   "execution_count": 3,
   "metadata": {},
   "outputs": [
    {
     "name": "stdout",
     "output_type": "stream",
     "text": [
      "jarvis 121\n"
     ]
    }
   ],
   "source": [
    "#creating parent class\n",
    "class emp:\n",
    "    def __init__(self,ename,eid):\n",
    "        self.name=ename\n",
    "        self.id=eid\n",
    "    def display(self):\n",
    "        print(self.name,self.id)\n",
    "\n",
    "obj=emp(\"jarvis\",121)\n",
    "obj.display()"
   ]
  },
  {
   "cell_type": "code",
   "execution_count": 6,
   "metadata": {},
   "outputs": [
    {
     "name": "stdout",
     "output_type": "stream",
     "text": [
      "jarvis 121\n",
      "class called\n"
     ]
    }
   ],
   "source": [
    "#creating child class\n",
    "class person(emp):\n",
    "    def dis(self):\n",
    "        print(\"class called\")\n",
    "\n",
    "details=person(\"jarvis\",121)\n",
    "details.display()\n",
    "details.dis()"
   ]
  },
  {
   "cell_type": "code",
   "execution_count": 3,
   "metadata": {},
   "outputs": [
    {
     "name": "stdout",
     "output_type": "stream",
     "text": [
      "friday\n",
      "121\n"
     ]
    }
   ],
   "source": [
    "class person:\n",
    "    def __init__(self,name,id):\n",
    "        self.name=name\n",
    "        self.id=id\n",
    "    def display(self):\n",
    "        print(self.name)\n",
    "        print(self.id)\n",
    "class employee(person):\n",
    "    def __init__(self,name,id,age,sal):\n",
    "        self.age=age\n",
    "        self.sal=sal\n",
    "        person.__init__(self, name, id)\n",
    "\n",
    "obj=employee(\"friday\",121,21,19000)\n",
    "obj.display()"
   ]
  },
  {
   "cell_type": "code",
   "execution_count": 6,
   "metadata": {},
   "outputs": [
    {
     "name": "stdout",
     "output_type": "stream",
     "text": [
      "dog barking\n",
      "animal speaking\n"
     ]
    }
   ],
   "source": [
    "#single inheritance \n",
    "class animal:\n",
    "    def speak(self):\n",
    "        print(\"animal speaking\")\n",
    "class dog(animal):\n",
    "    def bark(self):\n",
    "        print(\"dog barking\")\n",
    "\n",
    "obj=dog()\n",
    "obj.bark()\n",
    "obj.speak()"
   ]
  },
  {
   "cell_type": "code",
   "execution_count": 8,
   "metadata": {},
   "outputs": [
    {
     "name": "stdout",
     "output_type": "stream",
     "text": [
      "eats food\n",
      "dog barking\n",
      "animal speaking\n"
     ]
    }
   ],
   "source": [
    "#multi level inheritance\n",
    "class animal:\n",
    "    def speak(self):\n",
    "        print(\"animal speaking\")\n",
    "class dog(animal):\n",
    "    def bark(self):\n",
    "        print(\"dog barking\")\n",
    "class puppy(dog):\n",
    "    def eat(self):\n",
    "        print(\"eats food\")        \n",
    "\n",
    "obj=puppy()\n",
    "obj.eat()\n",
    "obj.bark()\n",
    "obj.speak()\n"
   ]
  },
  {
   "cell_type": "code",
   "execution_count": 14,
   "metadata": {},
   "outputs": [
    {
     "name": "stdout",
     "output_type": "stream",
     "text": [
      "grandfather : bharat\n",
      "father : laxman\n",
      "son : ram\n"
     ]
    }
   ],
   "source": [
    "class grandfather:\n",
    "    def __init__(self,gfathername):\n",
    "        self.gfather=gfathername\n",
    "\n",
    "class father(grandfather):\n",
    "    def __init__(self, fathername, gfathername):\n",
    "        self.father=fathername\n",
    "        grandfather.__init__(self,gfathername)\n",
    "class son(father):\n",
    "    def __init__(self, sonname,fathername,gfathername):\n",
    "        self.son=sonname\n",
    "        father.__init__(self,fathername,gfathername)\n",
    "\n",
    "    def display(self):\n",
    "        print(\"grandfather :\", self.gfather)\n",
    "        print(\"father :\", self.father)\n",
    "        print(\"son :\", self.son)\n",
    "\n",
    "obj=son(\"ram\",\"laxman\",\"bharat\")\n",
    "obj.display()\n",
    "\n"
   ]
  },
  {
   "cell_type": "code",
   "execution_count": 19,
   "metadata": {},
   "outputs": [
    {
     "name": "stdout",
     "output_type": "stream",
     "text": [
      "hello\n",
      "people\n",
      "child class\n",
      "hello people\n"
     ]
    }
   ],
   "source": [
    "#multiple inheritance\n",
    "class name1:\n",
    "    def __init__(self):\n",
    "        self.str1=\"hello\"\n",
    "        print(self.str1)\n",
    "class name2:\n",
    "    def __init__(self):\n",
    "        self.str2=\"people\"\n",
    "        print(self.str2)\n",
    "class name0(name1,name2):\n",
    "    def __init__(self):\n",
    "        name1.__init__(self)\n",
    "        name2.__init__(self)\n",
    "        print(\"child class\")\n",
    "    def printstr(self):\n",
    "        print(self.str1, self.str2)\n",
    "\n",
    "obj=name0()\n",
    "obj.printstr()"
   ]
  },
  {
   "cell_type": "code",
   "execution_count": 1,
   "metadata": {},
   "outputs": [
    {
     "name": "stdout",
     "output_type": "stream",
     "text": [
      "this is parent class\n",
      "this is first child class\n",
      "this is parent class\n",
      "this is second child class\n"
     ]
    }
   ],
   "source": [
    "#hierarchical inheritance\n",
    "class parent:\n",
    "    def func1(self):\n",
    "        print(\"this is parent class\")\n",
    "class child1(parent):\n",
    "    def func2(self):\n",
    "        print(\"this is first child class\")\n",
    "class child2(parent):\n",
    "    def func3(self):\n",
    "        print(\"this is second child class\")\n",
    "\n",
    "obj1=child1()\n",
    "obj1.func1()\n",
    "obj1.func2()\n",
    "obj2=child2()\n",
    "obj2.func1()\n",
    "obj2.func3()                        "
   ]
  }
 ],
 "metadata": {
  "kernelspec": {
   "display_name": "Python 3",
   "language": "python",
   "name": "python3"
  },
  "language_info": {
   "codemirror_mode": {
    "name": "ipython",
    "version": 3
   },
   "file_extension": ".py",
   "mimetype": "text/x-python",
   "name": "python",
   "nbconvert_exporter": "python",
   "pygments_lexer": "ipython3",
   "version": "3.10.10"
  },
  "orig_nbformat": 4
 },
 "nbformat": 4,
 "nbformat_minor": 2
}
