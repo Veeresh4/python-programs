{
 "cells": [
  {
   "cell_type": "code",
   "execution_count": 1,
   "metadata": {},
   "outputs": [
    {
     "name": "stdout",
     "output_type": "stream",
     "text": [
      "['orange', 'cherry', 'mnago', 'banana']\n"
     ]
    }
   ],
   "source": [
    "list=[\"orange\",\"cherry\",\"mnago\",\"banana\"]\n",
    "print(list)"
   ]
  },
  {
   "cell_type": "code",
   "execution_count": 20,
   "metadata": {},
   "outputs": [
    {
     "name": "stdout",
     "output_type": "stream",
     "text": [
      "['orange', 'apple', 'mango', 'mango']\n",
      "4\n",
      "<class 'list'>\n"
     ]
    }
   ],
   "source": [
    "#allow duplicates values\n",
    "list=[\"orange\",\"apple\",\"mango\",\"mango\"]\n",
    "print(list)\n",
    "print(len(list))\n",
    "print(type(list))"
   ]
  },
  {
   "cell_type": "code",
   "execution_count": 14,
   "metadata": {},
   "outputs": [
    {
     "name": "stdout",
     "output_type": "stream",
     "text": [
      "['apple', 'banana', 'cherry']\n",
      "[1, 5, 7, 9, 3]\n",
      "[True, False, False]\n"
     ]
    }
   ],
   "source": [
    "#data types in lists\n",
    "list1 = [\"apple\", \"banana\", \"cherry\"]\n",
    "list2 = [1, 5, 7, 9, 3]\n",
    "list3 = [True, False, False]\n",
    "print(list1)\n",
    "print(list2)\n",
    "print(list3)"
   ]
  },
  {
   "cell_type": "code",
   "execution_count": 19,
   "metadata": {},
   "outputs": [
    {
     "name": "stdout",
     "output_type": "stream",
     "text": [
      "['hello', 21, 2.43, 'aj+1', True]\n"
     ]
    }
   ],
   "source": [
    "#lists allows all data types\n",
    "list=[\"hello\",21,2.43,\"aj+1\",True]\n",
    "print(list)"
   ]
  },
  {
   "cell_type": "code",
   "execution_count": 56,
   "metadata": {},
   "outputs": [
    {
     "name": "stdout",
     "output_type": "stream",
     "text": [
      "['audi', 'kia', 'mg']\n"
     ]
    }
   ],
   "source": [
    "list=[\"bmw\",\"audi\",\"kia\",\"mg\",\"landrover\"]\n",
    "print(list[1:4])"
   ]
  },
  {
   "cell_type": "code",
   "execution_count": 52,
   "metadata": {},
   "outputs": [
    {
     "name": "stdout",
     "output_type": "stream",
     "text": [
      "yes\n"
     ]
    }
   ],
   "source": [
    "list=[\"bmw\",\"audi\",\"kia\",\"mg\",\"rr\"]\n",
    "if \"bmw\" in list:\n",
    "    print(\"yes\")"
   ]
  },
  {
   "cell_type": "code",
   "execution_count": 59,
   "metadata": {},
   "outputs": [
    {
     "name": "stdout",
     "output_type": "stream",
     "text": [
      "['apple', 'orange', 'mango', 'banana', 'grapes']\n"
     ]
    }
   ],
   "source": [
    "#insert() method\n",
    "list=[\"apple\",\"orange\",\"banana\",\"grapes\"]\n",
    "list.insert(2,\"mango\")\n",
    "print(list)"
   ]
  },
  {
   "cell_type": "code",
   "execution_count": 60,
   "metadata": {},
   "outputs": [
    {
     "name": "stdout",
     "output_type": "stream",
     "text": [
      "['apple', 'orange', 'banana', 'grapes', 'mango']\n"
     ]
    }
   ],
   "source": [
    "#append() method\n",
    "list=[\"apple\",\"orange\",\"banana\",\"grapes\"]\n",
    "list.append(\"mango\")\n",
    "print(list)"
   ]
  },
  {
   "cell_type": "code",
   "execution_count": 68,
   "metadata": {},
   "outputs": [
    {
     "name": "stdout",
     "output_type": "stream",
     "text": [
      "['apple', 'orange', 'cherry', 'grapes', 'kiwi', 'mango']\n"
     ]
    }
   ],
   "source": [
    "#extend() method\n",
    "list1=[\"apple\",\"orange\",\"cherry\"]\n",
    "list2=[\"grapes\",\"kiwi\",\"mango\"]\n",
    "list1.extend(list2)\n",
    "print(list1)"
   ]
  },
  {
   "cell_type": "code",
   "execution_count": 69,
   "metadata": {},
   "outputs": [
    {
     "name": "stdout",
     "output_type": "stream",
     "text": [
      "['apple', 'orange', 'cherry', 'grapes', 'kiwi', 'mango']\n"
     ]
    }
   ],
   "source": [
    "#add tuple items into list by using extend()\n",
    "list1=[\"apple\",\"orange\",\"cherry\"]\n",
    "tuple=(\"grapes\",\"kiwi\",\"mango\")\n",
    "list1.extend(tuple)\n",
    "print(list1)"
   ]
  },
  {
   "cell_type": "code",
   "execution_count": 5,
   "metadata": {},
   "outputs": [
    {
     "name": "stdout",
     "output_type": "stream",
     "text": [
      "['plane', 'auto']\n"
     ]
    }
   ],
   "source": [
    "list=[\"bike\",\"car\",\"plane\",\"auto\"]\n",
    "print(list[2:4])"
   ]
  },
  {
   "cell_type": "code",
   "execution_count": 6,
   "metadata": {},
   "outputs": [
    {
     "name": "stdout",
     "output_type": "stream",
     "text": [
      "['car', 'plane', 'auto']\n"
     ]
    }
   ],
   "source": [
    "list=[\"bike\",\"car\",\"plane\",\"auto\"]\n",
    "list.remove(\"bike\")\n",
    "print(list)"
   ]
  },
  {
   "cell_type": "code",
   "execution_count": 29,
   "metadata": {},
   "outputs": [
    {
     "name": "stdout",
     "output_type": "stream",
     "text": [
      "['bike', 'car', 'plane']\n"
     ]
    }
   ],
   "source": [
    "list=[\"bike\",\"car\",\"plane\",\"auto\"]\n",
    "list.pop()\n",
    "print(list)"
   ]
  },
  {
   "cell_type": "code",
   "execution_count": 20,
   "metadata": {},
   "outputs": [
    {
     "name": "stdout",
     "output_type": "stream",
     "text": [
      "<class 'list'>\n"
     ]
    }
   ],
   "source": [
    "list=[\"bike\",\"car\",\"plane\",\"auto\"]\n",
    "del list\n",
    "print(list)"
   ]
  },
  {
   "cell_type": "code",
   "execution_count": 23,
   "metadata": {},
   "outputs": [
    {
     "name": "stdout",
     "output_type": "stream",
     "text": [
      "[]\n"
     ]
    }
   ],
   "source": [
    "list=[\"bike\",\"car\",\"plane\",\"auto\"]\n",
    "list.clear()\n",
    "print(list)"
   ]
  },
  {
   "cell_type": "code",
   "execution_count": 47,
   "metadata": {},
   "outputs": [
    {
     "name": "stdout",
     "output_type": "stream",
     "text": [
      "bike\n",
      "car\n",
      "plane\n",
      "auto\n"
     ]
    }
   ],
   "source": [
    "list=[\"bike\",\"car\",\"plane\",\"auto\"]\n",
    "for i in list:\n",
    "    print(i)"
   ]
  },
  {
   "cell_type": "code",
   "execution_count": 43,
   "metadata": {},
   "outputs": [
    {
     "name": "stdout",
     "output_type": "stream",
     "text": [
      "bike\n",
      "car\n",
      "plane\n",
      "auto\n"
     ]
    }
   ],
   "source": [
    "list=[\"bike\",\"car\",\"plane\",\"auto\"]\n",
    "for i in range(len(list)):\n",
    "    print(list[i])"
   ]
  },
  {
   "cell_type": "code",
   "execution_count": 45,
   "metadata": {},
   "outputs": [
    {
     "name": "stdout",
     "output_type": "stream",
     "text": [
      "bike\n",
      "car\n",
      "plane\n",
      "auto\n"
     ]
    }
   ],
   "source": [
    "list=[\"bike\",\"car\",\"plane\",\"auto\"]\n",
    "i=0\n",
    "while i<len(list):\n",
    "    print(list[i])\n",
    "    i=i+1"
   ]
  },
  {
   "cell_type": "code",
   "execution_count": 54,
   "metadata": {},
   "outputs": [
    {
     "name": "stdout",
     "output_type": "stream",
     "text": [
      "['auto', 'bike', 'car', 'plane']\n",
      "['plane', 'car', 'bike', 'auto']\n",
      "['auto', 'bike', 'car', 'plane']\n"
     ]
    }
   ],
   "source": [
    "list=[\"bike\",\"car\",\"plane\",\"auto\"]\n",
    "list.sort()\n",
    "print(list)\n",
    "list.sort(reverse=True)\n",
    "print(list)\n",
    "list.reverse()\n",
    "print(list)"
   ]
  },
  {
   "cell_type": "code",
   "execution_count": 67,
   "metadata": {},
   "outputs": [
    {
     "name": "stdout",
     "output_type": "stream",
     "text": [
      "['bike', 'car', 'plane', 'auto']\n"
     ]
    }
   ],
   "source": [
    "list1=[\"bike\",\"car\",\"plane\",\"auto\"]\n",
    "list2=list1.copy()\n",
    "print(list2)"
   ]
  },
  {
   "cell_type": "code",
   "execution_count": 68,
   "metadata": {},
   "outputs": [
    {
     "name": "stdout",
     "output_type": "stream",
     "text": [
      "['bike', 'car', 'plane', 'auto', 'apple', 'orange', 'mango', 'grapes']\n"
     ]
    }
   ],
   "source": [
    "list=[\"bike\",\"car\",\"plane\",\"auto\"]\n",
    "list2=[\"apple\",\"orange\",\"mango\",\"grapes\"]\n",
    "x=list+list2\n",
    "print(x)"
   ]
  },
  {
   "cell_type": "code",
   "execution_count": 76,
   "metadata": {},
   "outputs": [
    {
     "name": "stdout",
     "output_type": "stream",
     "text": [
      "['a', 'b', 'c', 'd', 1]\n",
      "['a', 'b', 'c', 'd', 1, 2]\n",
      "['a', 'b', 'c', 'd', 1, 2, 3]\n",
      "['a', 'b', 'c', 'd', 1, 2, 3, 4]\n"
     ]
    }
   ],
   "source": [
    "list1=[\"a\",\"b\",\"c\",\"d\"]\n",
    "list2=[1,2,3,4]\n",
    "for x in list2:\n",
    "    list1.append(x)\n",
    "    print(list1)"
   ]
  },
  {
   "cell_type": "code",
   "execution_count": 78,
   "metadata": {},
   "outputs": [
    {
     "name": "stdout",
     "output_type": "stream",
     "text": [
      "['bike', 'car', 'plane', 'auto', 'apple', 'orange', 'mango', 'grapes']\n"
     ]
    }
   ],
   "source": [
    "list1=[\"bike\",\"car\",\"plane\",\"auto\"]\n",
    "list2=[\"apple\",\"orange\",\"mango\",\"grapes\"]\n",
    "list1.extend(list2)\n",
    "print(list1)"
   ]
  }
 ],
 "metadata": {
  "kernelspec": {
   "display_name": "Python 3",
   "language": "python",
   "name": "python3"
  },
  "language_info": {
   "codemirror_mode": {
    "name": "ipython",
    "version": 3
   },
   "file_extension": ".py",
   "mimetype": "text/x-python",
   "name": "python",
   "nbconvert_exporter": "python",
   "pygments_lexer": "ipython3",
   "version": "3.10.10"
  },
  "orig_nbformat": 4
 },
 "nbformat": 4,
 "nbformat_minor": 2
}
