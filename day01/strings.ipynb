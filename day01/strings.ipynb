{
 "cells": [
  {
   "cell_type": "code",
   "execution_count": 1,
   "metadata": {},
   "outputs": [
    {
     "name": "stdout",
     "output_type": "stream",
     "text": [
      "hello\n",
      "people\n"
     ]
    }
   ],
   "source": [
    "print(\"hello\")\n",
    "print(\"people\")"
   ]
  },
  {
   "cell_type": "code",
   "execution_count": 21,
   "metadata": {},
   "outputs": [
    {
     "name": "stdout",
     "output_type": "stream",
     "text": [
      "Hi, I'm an engineer\n"
     ]
    }
   ],
   "source": [
    "#assigning string to a variable\n",
    "a = \"Hi, I'm an engineer\"\n",
    "print(a)"
   ]
  },
  {
   "cell_type": "code",
   "execution_count": 7,
   "metadata": {},
   "outputs": [
    {
     "name": "stdout",
     "output_type": "stream",
     "text": [
      "hello guys, Im a software engineer,\n",
      "Im from East Godavari\n"
     ]
    }
   ],
   "source": [
    "#multiline string using three quotes\n",
    "y='''hello guys, Im a software engineer,\n",
    "Im from East Godavari'''\n",
    "print(y)"
   ]
  },
  {
   "cell_type": "code",
   "execution_count": 16,
   "metadata": {},
   "outputs": [
    {
     "name": "stdout",
     "output_type": "stream",
     "text": [
      "w\n"
     ]
    }
   ],
   "source": [
    "a=\"hello world\"\n",
    "print(a[6])"
   ]
  },
  {
   "cell_type": "code",
   "execution_count": 19,
   "metadata": {},
   "outputs": [
    {
     "name": "stdout",
     "output_type": "stream",
     "text": [
      "i\n",
      "P\n",
      "h\n",
      "o\n",
      "n\n",
      "e\n"
     ]
    }
   ],
   "source": [
    "for x in \"iPhone\":\n",
    "    print(x)\n"
   ]
  },
  {
   "cell_type": "code",
   "execution_count": 22,
   "metadata": {},
   "outputs": [
    {
     "name": "stdout",
     "output_type": "stream",
     "text": [
      "8\n"
     ]
    }
   ],
   "source": [
    "a=\"Engineer\"\n",
    "print(len(a))"
   ]
  },
  {
   "cell_type": "code",
   "execution_count": 26,
   "metadata": {},
   "outputs": [
    {
     "name": "stdout",
     "output_type": "stream",
     "text": [
      "False\n"
     ]
    }
   ],
   "source": [
    "#checking word presnt in the text or not\n",
    "text= \"we are not aliens\"\n",
    "print(\"jupiter\" in text)"
   ]
  },
  {
   "cell_type": "code",
   "execution_count": 25,
   "metadata": {},
   "outputs": [
    {
     "name": "stdout",
     "output_type": "stream",
     "text": [
      "yes\n"
     ]
    }
   ],
   "source": [
    "text=\"we are not aliens\"\n",
    "if \"aliens\" in text:\n",
    "    print(\"yes\")"
   ]
  },
  {
   "cell_type": "code",
   "execution_count": 31,
   "metadata": {},
   "outputs": [
    {
     "name": "stdout",
     "output_type": "stream",
     "text": [
      "True\n"
     ]
    }
   ],
   "source": [
    "#using not in for checking false condition\n",
    "text= \"we are all lived in jupiter\"\n",
    "print(\"Earth\" not in text)"
   ]
  },
  {
   "cell_type": "code",
   "execution_count": 37,
   "metadata": {},
   "outputs": [
    {
     "name": "stdout",
     "output_type": "stream",
     "text": [
      "no\n"
     ]
    }
   ],
   "source": [
    "text=\"we are all lived in jupiter\"\n",
    "if \"earth\" not in text:\n",
    "    print(\"no\")"
   ]
  },
  {
   "cell_type": "code",
   "execution_count": 56,
   "metadata": {},
   "outputs": [
    {
     "name": "stdout",
     "output_type": "stream",
     "text": [
      "llo peo\n",
      "l\n",
      "o people\n",
      "hello p\n"
     ]
    }
   ],
   "source": [
    "#slicing string\n",
    "a=\"hello people\"\n",
    "print(a[2:-3])\n",
    "print(a[2:3])\n",
    "print(a[4:])\n",
    "print(a[:-5])"
   ]
  },
  {
   "cell_type": "code",
   "execution_count": 60,
   "metadata": {},
   "outputs": [
    {
     "name": "stdout",
     "output_type": "stream",
     "text": [
      "HELLO PEOPLE\n",
      "hello people\n",
      "hello people\n",
      "hollo pooplo\n",
      "['hello people']\n"
     ]
    }
   ],
   "source": [
    "#string modifying\n",
    "a=\"hello people\"\n",
    "print(a.upper())\n",
    "print(a.lower())\n",
    "print(a.strip())\n",
    "print(a.replace(\"e\",\"o\"))\n",
    "print(a.split(\",\"))"
   ]
  },
  {
   "cell_type": "code",
   "execution_count": 66,
   "metadata": {},
   "outputs": [
    {
     "name": "stdout",
     "output_type": "stream",
     "text": [
      "hellopeople\n",
      "hello people\n"
     ]
    }
   ],
   "source": [
    "#string concatenation\n",
    "a=\"hello\"\n",
    "b=\"people\"\n",
    "c=a+b\n",
    "print(c)\n",
    "c=a +\" \"+ b\n",
    "print(c)"
   ]
  },
  {
   "cell_type": "code",
   "execution_count": 70,
   "metadata": {},
   "outputs": [
    {
     "name": "stdout",
     "output_type": "stream",
     "text": [
      "myself sharuk, im 22 old now\n"
     ]
    }
   ],
   "source": [
    "#format() method hleps to insert numbers into strings\n",
    "age=\"22\"\n",
    "txt=\"myself sharuk, im {} old now\"\n",
    "print(txt.format(age))\n"
   ]
  },
  {
   "cell_type": "code",
   "execution_count": 76,
   "metadata": {},
   "outputs": [
    {
     "name": "stdout",
     "output_type": "stream",
     "text": [
      "I want 21 pieces 533 in dollars 67.8\n"
     ]
    }
   ],
   "source": [
    "itemno=21\n",
    "quantity=533\n",
    "cost=67.8\n",
    "myorder=\"I want {} pieces {} in dollars {}\"\n",
    "print(myorder.format(itemno,quantity,cost))"
   ]
  },
  {
   "cell_type": "code",
   "execution_count": 77,
   "metadata": {},
   "outputs": [
    {
     "name": "stdout",
     "output_type": "stream",
     "text": [
      "I want 67.8 pieces 21 in dollars 533\n"
     ]
    }
   ],
   "source": [
    "itemno=21\n",
    "quantity=533\n",
    "cost=67.8\n",
    "myorder=\"I want {2} pieces {0} in dollars {1}\"\n",
    "print(myorder.format(itemno,quantity,cost))"
   ]
  },
  {
   "cell_type": "code",
   "execution_count": 81,
   "metadata": {},
   "outputs": [
    {
     "name": "stdout",
     "output_type": "stream",
     "text": [
      "reality is \"whatever\"i want to be\n"
     ]
    }
   ],
   "source": [
    "#escape character we use \\\"\n",
    "print(\"reality is \\\"whatever\\\"i want to be\")"
   ]
  },
  {
   "cell_type": "code",
   "execution_count": 93,
   "metadata": {},
   "outputs": [
    {
     "name": "stdout",
     "output_type": "stream",
     "text": [
      "Hello, people winter is coming\n"
     ]
    }
   ],
   "source": [
    "txt=\"hello, people winter is coming\"\n",
    "x=txt.capitalize()\n",
    "print(x)"
   ]
  }
 ],
 "metadata": {
  "kernelspec": {
   "display_name": "Python 3",
   "language": "python",
   "name": "python3"
  },
  "language_info": {
   "codemirror_mode": {
    "name": "ipython",
    "version": 3
   },
   "file_extension": ".py",
   "mimetype": "text/x-python",
   "name": "python",
   "nbconvert_exporter": "python",
   "pygments_lexer": "ipython3",
   "version": "3.10.10"
  },
  "orig_nbformat": 4
 },
 "nbformat": 4,
 "nbformat_minor": 2
}
