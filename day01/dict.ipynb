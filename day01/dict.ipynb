{
 "cells": [
  {
   "cell_type": "code",
   "execution_count": 14,
   "metadata": {},
   "outputs": [
    {
     "name": "stdout",
     "output_type": "stream",
     "text": [
      "{'car': 'landrover', 'bike': 'BMW', 'year': 2000}\n"
     ]
    }
   ],
   "source": [
    "#dcitionary items\n",
    "dict = {\"car\": \"landrover\", \"bike\":\"BMW\", \"year\":2000}\n",
    "print(dict)"
   ]
  },
  {
   "cell_type": "code",
   "execution_count": 8,
   "metadata": {},
   "outputs": [
    {
     "name": "stdout",
     "output_type": "stream",
     "text": [
      "{'name': 'veeresh', 'qualification': 'MCA', 'yop': 2022}\n"
     ]
    }
   ],
   "source": [
    "thisdict={\"name\":\"veeresh\", \"qualification\": \"MCA\", \"yop\":2022}\n",
    "print(thisdict)"
   ]
  },
  {
   "cell_type": "code",
   "execution_count": 6,
   "metadata": {},
   "outputs": [
    {
     "name": "stdout",
     "output_type": "stream",
     "text": [
      "G310R\n"
     ]
    }
   ],
   "source": [
    "#we are selection one dict item\n",
    "dict={\"BRAND\":\"bmw\",\"MODEL\":\"G310R\",\"VARIENT\":\"white\"}\n",
    "print(dict[\"MODEL\"])"
   ]
  },
  {
   "cell_type": "code",
   "execution_count": 3,
   "metadata": {},
   "outputs": [
    {
     "name": "stdout",
     "output_type": "stream",
     "text": [
      "{'brand': 'bmw', 'model': 'G310R', 'launch': 2022}\n",
      "3\n"
     ]
    }
   ],
   "source": [
    "#duplicates not allowed in dict\n",
    "dict={\"brand\":\"bmw\",\"model\":\"G310R\",\"launch\":2021,\"launch\":2022}\n",
    "print(dict)\n",
    "print(len(dict))"
   ]
  },
  {
   "cell_type": "code",
   "execution_count": 6,
   "metadata": {},
   "outputs": [
    {
     "name": "stdout",
     "output_type": "stream",
     "text": [
      "{'bike': 'BMW', 'disel-one': False, 'price': 3.8, 'cc': 310}\n"
     ]
    }
   ],
   "source": [
    "#dict items accepts diff kind of Data types\n",
    "dict= {\"bike\":\"BMW\",\"disel-one\":False, \"price\":3.8,\"cc\":310}\n",
    "print(dict)"
   ]
  },
  {
   "cell_type": "code",
   "execution_count": 9,
   "metadata": {},
   "outputs": [
    {
     "name": "stdout",
     "output_type": "stream",
     "text": [
      "<class 'dict'>\n"
     ]
    }
   ],
   "source": [
    "#type() identifies class name\n",
    "thisdict={\"name\":\"veeresh\", \"qualification\": \"MCA\", \"yop\":2022}\n",
    "print(type(thisdict))"
   ]
  },
  {
   "cell_type": "code",
   "execution_count": 27,
   "metadata": {},
   "outputs": [
    {
     "name": "stdout",
     "output_type": "stream",
     "text": [
      "G310R\n"
     ]
    }
   ],
   "source": [
    "#using get() method\n",
    "dict={\"BRAND\":\"bmw\",\"MODEL\":\"G310R\",\"VARIENT\":\"white\"}\n",
    "x= dict.get(\"MODEL\")\n",
    "print(x)"
   ]
  },
  {
   "cell_type": "code",
   "execution_count": 29,
   "metadata": {},
   "outputs": [
    {
     "name": "stdout",
     "output_type": "stream",
     "text": [
      "G310R\n"
     ]
    }
   ],
   "source": [
    "dict={\"BRAND\":\"bmw\",\"MODEL\":\"G310R\",\"VARIENT\":\"white\"}\n",
    "x=dict[\"MODEL\"]\n",
    "print(x)"
   ]
  },
  {
   "cell_type": "code",
   "execution_count": 31,
   "metadata": {},
   "outputs": [
    {
     "name": "stdout",
     "output_type": "stream",
     "text": [
      "dict_keys(['BRAND', 'MODEL', 'VARIENT'])\n"
     ]
    }
   ],
   "source": [
    "#key() method helps to identified key names\n",
    "dict={\"BRAND\":\"bmw\",\"MODEL\":\"G310R\",\"VARIENT\":\"white\"}\n",
    "x=dict.keys()\n",
    "print(x)"
   ]
  },
  {
   "cell_type": "code",
   "execution_count": 44,
   "metadata": {},
   "outputs": [
    {
     "name": "stdout",
     "output_type": "stream",
     "text": [
      "{'brand': 'bmw', 'model': 'g310R', 'color': 'white'}\n",
      "{'brand': 'bmw', 'model': 'g310R', 'color': 'white', 'varient': 'black'}\n"
     ]
    }
   ],
   "source": [
    "#add new item to dict\n",
    "bike = {\"brand\":\"bmw\",\"model\":\"g310R\",\"color\":\"white\"}\n",
    "x=bike\n",
    "print(x)\n",
    "bike[\"varient\"]=\"black\"\n",
    "print(x)"
   ]
  },
  {
   "cell_type": "code",
   "execution_count": 43,
   "metadata": {},
   "outputs": [
    {
     "name": "stdout",
     "output_type": "stream",
     "text": [
      "dict_values(['bmw', 'G310R', 'white'])\n"
     ]
    }
   ],
   "source": [
    "#vales() method helps to identified values names\n",
    "dict={\"BRAND\":\"bmw\",\"MODEL\":\"G310R\",\"VARIENT\":\"white\"}\n",
    "x=dict.values()\n",
    "print(x)"
   ]
  },
  {
   "cell_type": "code",
   "execution_count": 45,
   "metadata": {},
   "outputs": [
    {
     "name": "stdout",
     "output_type": "stream",
     "text": [
      "{'brand': 'bmw', 'model': 'g310R', 'color': 'white'}\n",
      "{'brand': 'bmw', 'model': 'g310R', 'color': 'black'}\n"
     ]
    }
   ],
   "source": [
    "#updating the values\n",
    "bike = {\"brand\":\"bmw\",\"model\":\"g310R\",\"color\":\"white\"}\n",
    "x=bike\n",
    "print(x)\n",
    "bike[\"color\"]=\"black\"\n",
    "print(x)"
   ]
  },
  {
   "cell_type": "code",
   "execution_count": 48,
   "metadata": {},
   "outputs": [
    {
     "name": "stdout",
     "output_type": "stream",
     "text": [
      "dict_items([('brand', 'bmw'), ('model', 'G310R'), ('color', 'white')])\n",
      "dict_items([('brand', 'bmw'), ('model', 'G310R'), ('color', 'white'), ('varient', 'black')])\n"
     ]
    }
   ],
   "source": [
    "#items() method will return each item in a dictionary, as tuples in a list.\n",
    "bike = {\"brand\": \"bmw\",\"model\":\"G310R\",\"color\":\"white\"}\n",
    "x=bike.items()\n",
    "print(x)\n",
    "bike[\"varient\"]=\"black\"\n",
    "print(x)"
   ]
  },
  {
   "cell_type": "code",
   "execution_count": 59,
   "metadata": {},
   "outputs": [
    {
     "name": "stdout",
     "output_type": "stream",
     "text": [
      "yes\n"
     ]
    }
   ],
   "source": [
    "bike = {\"brand\":\"bmw\",\"model\":\"g310R\",\"color\":\"white\"}\n",
    "if \"color\" in dict:\n",
    "    print(\"yes\")"
   ]
  },
  {
   "cell_type": "code",
   "execution_count": 61,
   "metadata": {},
   "outputs": [
    {
     "name": "stdout",
     "output_type": "stream",
     "text": [
      "{'brand': 'bmw', 'model': 'g310R', 'color': 'black'}\n"
     ]
    }
   ],
   "source": [
    "bike = {\"brand\":\"bmw\",\"model\":\"g310R\",\"color\":\"white\"}\n",
    "bike[\"color\"]=\"black\"\n",
    "print(bike)"
   ]
  },
  {
   "cell_type": "code",
   "execution_count": 63,
   "metadata": {},
   "outputs": [
    {
     "name": "stdout",
     "output_type": "stream",
     "text": [
      "{'brand': 'bmw', 'model': 'g310R', 'color': 'black'}\n"
     ]
    }
   ],
   "source": [
    "#update() method helps to update existing data to new    \n",
    "bike = {\"brand\":\"bmw\",\"model\":\"g310R\",\"color\":\"white\"}\n",
    "bike.update({\"color\":\"black\"})\n",
    "print(bike)"
   ]
  },
  {
   "cell_type": "code",
   "execution_count": 64,
   "metadata": {},
   "outputs": [
    {
     "name": "stdout",
     "output_type": "stream",
     "text": [
      "{'brand': 'bmw', 'model': 'g310R'}\n"
     ]
    }
   ],
   "source": [
    "#pop() method removes item from dict\n",
    "bike = {\"brand\":\"bmw\",\"model\":\"g310R\",\"color\":\"white\"}\n",
    "bike.pop(\"color\")\n",
    "print(bike)"
   ]
  },
  {
   "cell_type": "code",
   "execution_count": 67,
   "metadata": {},
   "outputs": [
    {
     "name": "stdout",
     "output_type": "stream",
     "text": [
      "{'brand': 'bmw', 'model': 'g310R'}\n"
     ]
    }
   ],
   "source": [
    "#popitem() method removes last item from dict\n",
    "bike = {\"brand\":\"bmw\",\"model\":\"g310R\",\"color\":\"white\"}\n",
    "bike.popitem()\n",
    "print(bike)"
   ]
  },
  {
   "cell_type": "code",
   "execution_count": 75,
   "metadata": {},
   "outputs": [
    {
     "name": "stdout",
     "output_type": "stream",
     "text": [
      "{'brand': 'bmw', 'color': 'white'}\n"
     ]
    }
   ],
   "source": [
    "#del keyword removes item we selected from dict\n",
    "bike = {\"brand\":\"bmw\",\"model\":\"g310R\",\"color\":\"white\"}\n",
    "del bike[\"model\"]\n",
    "print(bike)"
   ]
  },
  {
   "cell_type": "code",
   "execution_count": 76,
   "metadata": {},
   "outputs": [
    {
     "ename": "NameError",
     "evalue": "name 'bike' is not defined",
     "output_type": "error",
     "traceback": [
      "\u001b[1;31m---------------------------------------------------------------------------\u001b[0m",
      "\u001b[1;31mNameError\u001b[0m                                 Traceback (most recent call last)",
      "Cell \u001b[1;32mIn[76], line 4\u001b[0m\n\u001b[0;32m      2\u001b[0m bike \u001b[39m=\u001b[39m {\u001b[39m\"\u001b[39m\u001b[39mbrand\u001b[39m\u001b[39m\"\u001b[39m:\u001b[39m\"\u001b[39m\u001b[39mbmw\u001b[39m\u001b[39m\"\u001b[39m,\u001b[39m\"\u001b[39m\u001b[39mmodel\u001b[39m\u001b[39m\"\u001b[39m:\u001b[39m\"\u001b[39m\u001b[39mg310R\u001b[39m\u001b[39m\"\u001b[39m,\u001b[39m\"\u001b[39m\u001b[39mcolor\u001b[39m\u001b[39m\"\u001b[39m:\u001b[39m\"\u001b[39m\u001b[39mwhite\u001b[39m\u001b[39m\"\u001b[39m}\n\u001b[0;32m      3\u001b[0m \u001b[39mdel\u001b[39;00m bike\n\u001b[1;32m----> 4\u001b[0m \u001b[39mprint\u001b[39m(bike)\n",
      "\u001b[1;31mNameError\u001b[0m: name 'bike' is not defined"
     ]
    }
   ],
   "source": [
    "#del keyword deletes entire items from the dict\n",
    "bike = {\"brand\":\"bmw\",\"model\":\"g310R\",\"color\":\"white\"}\n",
    "del bike\n",
    "print(bike)"
   ]
  },
  {
   "cell_type": "code",
   "execution_count": 83,
   "metadata": {},
   "outputs": [
    {
     "name": "stdout",
     "output_type": "stream",
     "text": [
      "{}\n"
     ]
    }
   ],
   "source": [
    "#clear method removes entire items from dict\n",
    "bike = {\"brand\":\"bmw\",\"model\":\"g310R\",\"color\":\"white\"}\n",
    "bike.clear()\n",
    "print(bike)"
   ]
  },
  {
   "cell_type": "code",
   "execution_count": 89,
   "metadata": {},
   "outputs": [
    {
     "name": "stdout",
     "output_type": "stream",
     "text": [
      "('brand', 'bmw')\n",
      "('model', 'g310R')\n",
      "('color', 'black')\n"
     ]
    }
   ],
   "source": [
    "#using for loop\n",
    "bike = {\"brand\":\"bmw\",\"model\":\"g310R\",\"color\":\"white\"}\n",
    "x=bike\n",
    "for x in dict.items():\n",
    "    print(x) "
   ]
  },
  {
   "cell_type": "code",
   "execution_count": 94,
   "metadata": {},
   "outputs": [
    {
     "name": "stdout",
     "output_type": "stream",
     "text": [
      "{'brand': 'bmw', 'model': 'g310R', 'color': 'white'}\n"
     ]
    }
   ],
   "source": [
    "#copy() method copies the data from the dict\n",
    "dict = {\"brand\":\"bmw\",\"model\":\"g310R\",\"color\":\"white\"}\n",
    "mydict=dict.copy()\n",
    "print(mydict)"
   ]
  },
  {
   "cell_type": "code",
   "execution_count": 103,
   "metadata": {},
   "outputs": [
    {
     "name": "stdout",
     "output_type": "stream",
     "text": [
      "{'child1': {'name': 'wednesday', 'age': 16}, 'child2': {'name': 'Adams', 'age': 17}, 'child3': {'name': 'enid', 'age': 18}}\n"
     ]
    }
   ],
   "source": [
    "myfamily = {\n",
    "    \"child1\":{\n",
    "    \"name\":\"wednesday\",\n",
    "    \"age\":16\n",
    "    },\n",
    "    \"child2\":{\n",
    "    \"name\":\"Adams\",\n",
    "    \"age\":17\n",
    "    },\n",
    "    \"child3\":{\n",
    "    \"name\":\"enid\",\n",
    "    \"age\":18\n",
    "    }\n",
    "}\n",
    "print(myfamily)"
   ]
  }
 ],
 "metadata": {
  "kernelspec": {
   "display_name": "Python 3",
   "language": "python",
   "name": "python3"
  },
  "language_info": {
   "codemirror_mode": {
    "name": "ipython",
    "version": 3
   },
   "file_extension": ".py",
   "mimetype": "text/x-python",
   "name": "python",
   "nbconvert_exporter": "python",
   "pygments_lexer": "ipython3",
   "version": "3.10.10"
  },
  "orig_nbformat": 4
 },
 "nbformat": 4,
 "nbformat_minor": 2
}
