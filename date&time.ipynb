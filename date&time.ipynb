{
 "cells": [
  {
   "cell_type": "code",
   "execution_count": 38,
   "metadata": {},
   "outputs": [
    {
     "name": "stdout",
     "output_type": "stream",
     "text": [
      "2023-03-24 07:28:00.154469\n",
      "<class 'datetime.datetime'>\n"
     ]
    }
   ],
   "source": [
    "from datetime import datetime\n",
    "now=datetime.now()\n",
    "print(now)\n",
    "print(type(now))"
   ]
  },
  {
   "cell_type": "code",
   "execution_count": 39,
   "metadata": {},
   "outputs": [
    {
     "name": "stdout",
     "output_type": "stream",
     "text": [
      "['MAXYEAR', 'MINYEAR', '__all__', '__builtins__', '__cached__', '__doc__', '__file__', '__loader__', '__name__', '__package__', '__spec__', 'date', 'datetime', 'datetime_CAPI', 'sys', 'time', 'timedelta', 'timezone', 'tzinfo']\n"
     ]
    }
   ],
   "source": [
    "import datetime\n",
    "print(dir(datetime))"
   ]
  },
  {
   "cell_type": "code",
   "execution_count": 40,
   "metadata": {},
   "outputs": [
    {
     "name": "stdout",
     "output_type": "stream",
     "text": [
      "2023-03-24 07:28:00.230250\n"
     ]
    }
   ],
   "source": [
    "from datetime import datetime\n",
    "x=datetime.now()\n",
    "print(x)"
   ]
  },
  {
   "cell_type": "code",
   "execution_count": 41,
   "metadata": {},
   "outputs": [
    {
     "name": "stdout",
     "output_type": "stream",
     "text": [
      "Date : 2023-03-24\n",
      "Friday\n",
      "year : 2023\n",
      "month : 3\n",
      "day : 24\n"
     ]
    }
   ],
   "source": [
    "from datetime import date\n",
    "x=date.today()\n",
    "print(\"Date :\",x)\n",
    "print(x.strftime(\"%A\"))\n",
    "print(\"year :\",x.year)\n",
    "print(\"month :\",x.month)\n",
    "print(\"day :\",x.day)"
   ]
  },
  {
   "cell_type": "code",
   "execution_count": 42,
   "metadata": {},
   "outputs": [
    {
     "name": "stdout",
     "output_type": "stream",
     "text": [
      "2000-11-24\n",
      "Fri Nov 24 00:00:00 2000\n"
     ]
    }
   ],
   "source": [
    "from datetime import date\n",
    "x=date(2000,11,24)\n",
    "print(x)\n",
    "print(x.strftime(\"%c\"))\n"
   ]
  },
  {
   "cell_type": "code",
   "execution_count": 43,
   "metadata": {},
   "outputs": [
    {
     "name": "stdout",
     "output_type": "stream",
     "text": [
      "07:28:00.363976\n",
      "hours : 7\n",
      "minutes : 28\n",
      "seconds : 0\n",
      "milliseconds : 363976\n"
     ]
    }
   ],
   "source": [
    "from datetime import time\n",
    "x=datetime.now().time()\n",
    "print(x)\n",
    "print(\"hours :\",x.hour)\n",
    "print(\"minutes :\",x.minute)\n",
    "print(\"seconds :\",x.second)\n",
    "print(\"milliseconds :\",x.microsecond)\n"
   ]
  },
  {
   "cell_type": "code",
   "execution_count": 44,
   "metadata": {},
   "outputs": [
    {
     "name": "stdout",
     "output_type": "stream",
     "text": [
      "2023-03-24 07:28:00.412978\n",
      "Fri Mar 24 07:28:00 2023\n",
      "2023\n",
      "23\n",
      "March\n",
      "Mar\n",
      "03\n",
      "Friday\n",
      "Fri\n",
      "5\n",
      "07\n",
      "28\n",
      "00\n",
      "412978\n",
      "AM\n",
      "07:28:00\n",
      "03/24/23\n"
     ]
    }
   ],
   "source": [
    "from datetime import datetime\n",
    "x=datetime.now()\n",
    "print(x)\n",
    "print(x.strftime(\"%c\"))\n",
    "print(x.strftime(\"%Y\"))\n",
    "print(x.strftime(\"%y\"))\n",
    "print(x.strftime(\"%B\"))\n",
    "print(x.strftime(\"%b\"))\n",
    "print(x.strftime(\"%m\"))\n",
    "print(x.strftime(\"%A\"))\n",
    "print(x.strftime(\"%a\"))\n",
    "print(x.strftime(\"%w\"))\n",
    "print(x.strftime(\"%H\"))\n",
    "print(x.strftime(\"%M\"))\n",
    "print(x.strftime(\"%S\"))\n",
    "print(x.strftime(\"%f\"))\n",
    "print(x.strftime(\"%p\"))\n",
    "print(x.strftime(\"%X\"))\n",
    "print(x.strftime(\"%x\"))\n"
   ]
  },
  {
   "cell_type": "code",
   "execution_count": 45,
   "metadata": {},
   "outputs": [
    {
     "name": "stdout",
     "output_type": "stream",
     "text": [
      "2178-02-26 00:21:57\n"
     ]
    }
   ],
   "source": [
    "#here we use fromtimestamp() that will show particluar time by counting seconds we declared in method.\n",
    "from datetime import datetime\n",
    "x=datetime.fromtimestamp(6568752117)\n",
    "print(x)"
   ]
  },
  {
   "cell_type": "code",
   "execution_count": 46,
   "metadata": {},
   "outputs": [
    {
     "name": "stdout",
     "output_type": "stream",
     "text": [
      "Datetime is: 2023-03-24 07:28:00.480991\n",
      "Date: 2023-03-24\n",
      "Time: 07:28:00.480991\n",
      "Timestamp: 1679657280.480991\n",
      "Year: 2023\n",
      "Month: 3\n",
      "Day: 24\n",
      "Hours: 7\n",
      "Minutes: 28\n",
      "Seconds: 0\n",
      "Microseconds: 480991\n"
     ]
    }
   ],
   "source": [
    "from datetime import datetime\n",
    "\n",
    "dt = datetime.now()\n",
    "print(\"Datetime is:\", dt)\n",
    "\n",
    "print('Date:', dt.date())\n",
    "print('Time:', dt.time())\n",
    "print('Timestamp:', dt.timestamp())\n",
    "\n",
    "print('Year:', dt.year)\n",
    "print('Month:', dt.month)\n",
    "print('Day:', dt.day)\n",
    "\n",
    "print('Hours:', dt.hour)\n",
    "print('Minutes:', dt.minute)\n",
    "print('Seconds:', dt.second)\n",
    "print('Microseconds:', dt.microsecond)\n"
   ]
  },
  {
   "cell_type": "code",
   "execution_count": 47,
   "metadata": {},
   "outputs": [
    {
     "name": "stdout",
     "output_type": "stream",
     "text": [
      "   November 2023\n",
      "Mo Tu We Th Fr Sa Su\n",
      "       1  2  3  4  5\n",
      " 6  7  8  9 10 11 12\n",
      "13 14 15 16 17 18 19\n",
      "20 21 22 23 24 25 26\n",
      "27 28 29 30\n",
      "\n"
     ]
    }
   ],
   "source": [
    "import calendar\n",
    "year=2023\n",
    "month=11\n",
    "print(calendar.month(year,month))"
   ]
  },
  {
   "cell_type": "code",
   "execution_count": 48,
   "metadata": {},
   "outputs": [
    {
     "name": "stdout",
     "output_type": "stream",
     "text": [
      "t3 = 201 days, 0:00:00\n",
      "t6 = -333 days, 1:14:20\n",
      "Type of t3 = 201 days, 0:00:00\n",
      "Type of t6 = -333 days, 1:14:20\n"
     ]
    }
   ],
   "source": [
    "from datetime import datetime, date\n",
    "\n",
    "t1 = date(year = 2018, month = 7, day = 12)\n",
    "t2 = date(year = 2017, month = 12, day = 23)\n",
    "t3 = t1 - t2\n",
    "print(\"t3 =\", t3)\n",
    "\n",
    "t4 = datetime(year = 2018, month = 7, day = 12, hour = 7, minute = 9, second = 33)\n",
    "t5 = datetime(year = 2019, month = 6, day = 10, hour = 5, minute = 55, second = 13)\n",
    "t6 = t4 - t5\n",
    "print(\"t6 =\", t6)\n",
    "\n",
    "print(\"Type of t3 =\", (t3)) \n",
    "print(\"Type of t6 =\", (t6))  "
   ]
  },
  {
   "cell_type": "code",
   "execution_count": 49,
   "metadata": {},
   "outputs": [
    {
     "name": "stdout",
     "output_type": "stream",
     "text": [
      "Total seconds : 390335.254\n"
     ]
    }
   ],
   "source": [
    "from datetime import timedelta\n",
    "t=timedelta(days=4, hours=12, minutes=23, seconds=12, milliseconds=143254)\n",
    "print(\"Total seconds :\", t.total_seconds())"
   ]
  },
  {
   "cell_type": "code",
   "execution_count": 52,
   "metadata": {},
   "outputs": [
    {
     "name": "stdout",
     "output_type": "stream",
     "text": [
      "Local: 03/24/2023, 07:30:18\n",
      "London: 03/24/2023, 11:30:18\n"
     ]
    },
    {
     "ename": "UnknownTimeZoneError",
     "evalue": "'India/Goa'",
     "output_type": "error",
     "traceback": [
      "\u001b[1;31m---------------------------------------------------------------------------\u001b[0m",
      "\u001b[1;31mUnknownTimeZoneError\u001b[0m                      Traceback (most recent call last)",
      "Cell \u001b[1;32mIn[52], line 11\u001b[0m\n\u001b[0;32m      8\u001b[0m datetime_London \u001b[39m=\u001b[39m datetime\u001b[39m.\u001b[39mnow(tz_London)\n\u001b[0;32m      9\u001b[0m \u001b[39mprint\u001b[39m(\u001b[39m\"\u001b[39m\u001b[39mLondon:\u001b[39m\u001b[39m\"\u001b[39m, datetime_London\u001b[39m.\u001b[39mstrftime(\u001b[39m\"\u001b[39m\u001b[39m%\u001b[39m\u001b[39mm/\u001b[39m\u001b[39m%d\u001b[39;00m\u001b[39m/\u001b[39m\u001b[39m%\u001b[39m\u001b[39mY, \u001b[39m\u001b[39m%\u001b[39m\u001b[39mH:\u001b[39m\u001b[39m%\u001b[39m\u001b[39mM:\u001b[39m\u001b[39m%\u001b[39m\u001b[39mS\u001b[39m\u001b[39m\"\u001b[39m))\n\u001b[1;32m---> 11\u001b[0m tz_Goa \u001b[39m=\u001b[39m pytz\u001b[39m.\u001b[39;49mtimezone(\u001b[39m'\u001b[39;49m\u001b[39mIndia/Goa\u001b[39;49m\u001b[39m'\u001b[39;49m) \n\u001b[0;32m     12\u001b[0m datetime_Goa \u001b[39m=\u001b[39m datetime\u001b[39m.\u001b[39mnow(tz_Goa)\n\u001b[0;32m     13\u001b[0m \u001b[39mprint\u001b[39m(\u001b[39m\"\u001b[39m\u001b[39mNY:\u001b[39m\u001b[39m\"\u001b[39m, datetime_Goa\u001b[39m.\u001b[39mstrftime(\u001b[39m\"\u001b[39m\u001b[39m%\u001b[39m\u001b[39mm/\u001b[39m\u001b[39m%d\u001b[39;00m\u001b[39m/\u001b[39m\u001b[39m%\u001b[39m\u001b[39mY, \u001b[39m\u001b[39m%\u001b[39m\u001b[39mH:\u001b[39m\u001b[39m%\u001b[39m\u001b[39mM:\u001b[39m\u001b[39m%\u001b[39m\u001b[39mS\u001b[39m\u001b[39m\"\u001b[39m))\n",
      "File \u001b[1;32mc:\\Users\\veeresh\\AppData\\Local\\Programs\\Python\\Python310\\lib\\site-packages\\pytz\\__init__.py:188\u001b[0m, in \u001b[0;36mtimezone\u001b[1;34m(zone)\u001b[0m\n\u001b[0;32m    186\u001b[0m             fp\u001b[39m.\u001b[39mclose()\n\u001b[0;32m    187\u001b[0m     \u001b[39melse\u001b[39;00m:\n\u001b[1;32m--> 188\u001b[0m         \u001b[39mraise\u001b[39;00m UnknownTimeZoneError(zone)\n\u001b[0;32m    190\u001b[0m \u001b[39mreturn\u001b[39;00m _tzinfo_cache[zone]\n",
      "\u001b[1;31mUnknownTimeZoneError\u001b[0m: 'India/Goa'"
     ]
    }
   ],
   "source": [
    "from datetime import datetime\n",
    "import pytz\n",
    "\n",
    "local = datetime.now()\n",
    "print(\"Local:\", local.strftime(\"%m/%d/%Y, %H:%M:%S\"))\n",
    "\n",
    "tz_London = pytz.timezone('Europe/London')\n",
    "datetime_London = datetime.now(tz_London)\n",
    "print(\"London:\", datetime_London.strftime(\"%m/%d/%Y, %H:%M:%S\"))\n",
    "\n",
    "tz_Goa = pytz.timezone('India/Goa') \n",
    "datetime_Goa = datetime.now(tz_Goa)\n",
    "print(\"NY:\", datetime_Goa.strftime(\"%m/%d/%Y, %H:%M:%S\"))\n",
    "\n"
   ]
  }
 ],
 "metadata": {
  "kernelspec": {
   "display_name": "Python 3",
   "language": "python",
   "name": "python3"
  },
  "language_info": {
   "codemirror_mode": {
    "name": "ipython",
    "version": 3
   },
   "file_extension": ".py",
   "mimetype": "text/x-python",
   "name": "python",
   "nbconvert_exporter": "python",
   "pygments_lexer": "ipython3",
   "version": "3.10.10"
  },
  "orig_nbformat": 4
 },
 "nbformat": 4,
 "nbformat_minor": 2
}
