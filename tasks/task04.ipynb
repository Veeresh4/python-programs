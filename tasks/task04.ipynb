{
 "cells": [
  {
   "cell_type": "code",
   "execution_count": 17,
   "metadata": {},
   "outputs": [
    {
     "name": "stdout",
     "output_type": "stream",
     "text": [
      "stdid : 180\n",
      "stdname : jarvis\n",
      "stdroll : 23\n"
     ]
    }
   ],
   "source": [
    "class student:\n",
    "    def __init__(self,stdid,stdname,stdcroll):\n",
    "        self.s=stdid\n",
    "        self.n=stdname\n",
    "        self.r=stdcroll\n",
    "    def data(self):\n",
    "        print(\"stdid :\",self.s)\n",
    "        print(\"stdname :\",self.n)\n",
    "        print(\"stdroll :\",self.r)\n",
    "\n",
    "obj=student(180,\"jarvis\",23)\n",
    "obj.data()        \n"
   ]
  },
  {
   "cell_type": "code",
   "execution_count": 18,
   "metadata": {},
   "outputs": [
    {
     "name": "stdout",
     "output_type": "stream",
     "text": [
      "200\n",
      "jarvis\n",
      "AI\n"
     ]
    }
   ],
   "source": [
    "class student:\n",
    "    def __init__(self,id):\n",
    "        self.id = id\n",
    "    def func0(self,name,cls):\n",
    "        self.name=name\n",
    "        self.cls=cls\n",
    "    def func1(self):\n",
    "        print(self.id)\n",
    "        print(self.name)\n",
    "        print(self.cls) \n",
    "                \n",
    "name=input()\n",
    "cls=input()  \n",
    "obj=student(200)\n",
    "obj.func0(name,cls)\n",
    "obj.func1()  "
   ]
  },
  {
   "cell_type": "code",
   "execution_count": 19,
   "metadata": {},
   "outputs": [
    {
     "name": "stdout",
     "output_type": "stream",
     "text": [
      "stdid : <class 'int'>\n",
      "stdname : <class 'str'>\n",
      "stdroll : <class 'int'>\n",
      "{'s': 180, 'n': 'jarvis', 'r': 23}\n",
      "__main__\n"
     ]
    }
   ],
   "source": [
    "class student:\n",
    "    def __init__(self,stdid,stdname,stdcroll):\n",
    "        self.s=stdid\n",
    "        self.n=stdname\n",
    "        self.r=stdcroll\n",
    "    def data(self):\n",
    "        print(\"stdid :\",type(self.s))\n",
    "        print(\"stdname :\",type(self.n))\n",
    "        print(\"stdroll :\",type(self.r))\n",
    "\n",
    "obj=student(180,\"jarvis\",23)\n",
    "obj.data()  \n",
    "print(obj.__dict__)  \n",
    "print(obj.__module__)    "
   ]
  },
  {
   "cell_type": "code",
   "execution_count": 27,
   "metadata": {},
   "outputs": [
    {
     "name": "stdout",
     "output_type": "stream",
     "text": [
      "python hello\n"
     ]
    }
   ],
   "source": [
    "class reverse1:\n",
    "    pass\n",
    "    def reverse():\n",
    "        st=\"hello python\"\n",
    "        st1=st.split(\" \")\n",
    "        st1=st1[-1::-1]\n",
    "        outputstr=' '.join(st1)\n",
    "        print(outputstr)\n",
    "    reverse()\n",
    "        "
   ]
  },
  {
   "cell_type": "code",
   "execution_count": 37,
   "metadata": {},
   "outputs": [
    {
     "name": "stdout",
     "output_type": "stream",
     "text": [
      "120\n"
     ]
    }
   ],
   "source": [
    "class rectangle():\n",
    "    def __init__(self, l, w):\n",
    "        self.length = l\n",
    "        self.width  = w\n",
    "\n",
    "    def area(self):\n",
    "        return self.length*self.width\n",
    "\n",
    "result = rectangle(12, 10)\n",
    "print(result.area())\n"
   ]
  },
  {
   "cell_type": "code",
   "execution_count": null,
   "metadata": {},
   "outputs": [],
   "source": []
  }
 ],
 "metadata": {
  "kernelspec": {
   "display_name": "Python 3",
   "language": "python",
   "name": "python3"
  },
  "language_info": {
   "codemirror_mode": {
    "name": "ipython",
    "version": 3
   },
   "file_extension": ".py",
   "mimetype": "text/x-python",
   "name": "python",
   "nbconvert_exporter": "python",
   "pygments_lexer": "ipython3",
   "version": "3.10.10"
  },
  "orig_nbformat": 4
 },
 "nbformat": 4,
 "nbformat_minor": 2
}
