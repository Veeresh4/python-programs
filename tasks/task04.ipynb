{
 "cells": [
  {
   "cell_type": "code",
   "execution_count": 17,
   "metadata": {},
   "outputs": [
    {
     "name": "stdout",
     "output_type": "stream",
     "text": [
      "stdid : 180\n",
      "stdname : jarvis\n",
      "stdroll : 23\n"
     ]
    }
   ],
   "source": [
    "class student:\n",
    "    def __init__(self,stdid,stdname,stdcroll):\n",
    "        self.s=stdid\n",
    "        self.n=stdname\n",
    "        self.r=stdcroll\n",
    "    def data(self):\n",
    "        print(\"stdid :\",self.s)\n",
    "        print(\"stdname :\",self.n)\n",
    "        print(\"stdroll :\",self.r)\n",
    "\n",
    "obj=student(180,\"jarvis\",23)\n",
    "obj.data()        \n"
   ]
  },
  {
   "cell_type": "code",
   "execution_count": 18,
   "metadata": {},
   "outputs": [
    {
     "name": "stdout",
     "output_type": "stream",
     "text": [
      "200\n",
      "jarvis\n",
      "AI\n"
     ]
    }
   ],
   "source": [
    "class student:\n",
    "    def __init__(self,id):\n",
    "        self.id = id\n",
    "    def func0(self,name,cls):\n",
    "        self.name=name\n",
    "        self.cls=cls\n",
    "    def func1(self):\n",
    "        print(self.id)\n",
    "        print(self.name)\n",
    "        print(self.cls) \n",
    "                \n",
    "name=input()\n",
    "cls=input()  \n",
    "obj=student(200)\n",
    "obj.func0(name,cls)\n",
    "obj.func1()  "
   ]
  },
  {
   "cell_type": "code",
   "execution_count": 19,
   "metadata": {},
   "outputs": [
    {
     "name": "stdout",
     "output_type": "stream",
     "text": [
      "stdid : <class 'int'>\n",
      "stdname : <class 'str'>\n",
      "stdroll : <class 'int'>\n",
      "{'s': 180, 'n': 'jarvis', 'r': 23}\n",
      "__main__\n"
     ]
    }
   ],
   "source": [
    "class student:\n",
    "    def __init__(self,stdid,stdname,stdcroll):\n",
    "        self.s=stdid\n",
    "        self.n=stdname\n",
    "        self.r=stdcroll\n",
    "    def data(self):\n",
    "        print(\"stdid :\",type(self.s))\n",
    "        print(\"stdname :\",type(self.n))\n",
    "        print(\"stdroll :\",type(self.r))\n",
    "\n",
    "obj=student(180,\"jarvis\",23)\n",
    "obj.data()  \n",
    "print(obj.__dict__)  \n",
    "print(obj.__module__)    "
   ]
  },
  {
   "cell_type": "code",
   "execution_count": 27,
   "metadata": {},
   "outputs": [
    {
     "name": "stdout",
     "output_type": "stream",
     "text": [
      "python hello\n"
     ]
    }
   ],
   "source": [
    "class reverse1:\n",
    "    pass\n",
    "    def reverse():\n",
    "        st=\"hello python\"\n",
    "        st1=st.split(\" \")\n",
    "        st1=st1[-1::-1]\n",
    "        outputstr=' '.join(st1)\n",
    "        print(outputstr)\n",
    "    reverse()\n",
    "        "
   ]
  },
  {
   "cell_type": "code",
   "execution_count": 37,
   "metadata": {},
   "outputs": [
    {
     "name": "stdout",
     "output_type": "stream",
     "text": [
      "120\n"
     ]
    }
   ],
   "source": [
    "class rectangle():\n",
    "    def __init__(self, l, w):\n",
    "        self.length = l\n",
    "        self.width  = w\n",
    "\n",
    "    def area(self):\n",
    "        return self.length*self.width\n",
    "\n",
    "result = rectangle(12, 10)\n",
    "print(result.area())\n"
   ]
  },
  {
   "cell_type": "code",
   "execution_count": 10,
   "metadata": {},
   "outputs": [
    {
     "name": "stdout",
     "output_type": "stream",
     "text": [
      "200.96\n",
      "50.24\n"
     ]
    }
   ],
   "source": [
    "class Circle():\n",
    "    def __init__(self, r):\n",
    "        self.radius = r\n",
    "\n",
    "    def area(self):\n",
    "        return 3.14*self.radius**2\n",
    "    \n",
    "    def perimeter(self):\n",
    "        return 2*3.14*self.radius\n",
    "\n",
    "obj = Circle(8)\n",
    "print(obj.area())\n",
    "print(obj.perimeter())\n"
   ]
  },
  {
   "cell_type": "code",
   "execution_count": 13,
   "metadata": {},
   "outputs": [
    {
     "name": "stdout",
     "output_type": "stream",
     "text": [
      "TENET\n"
     ]
    }
   ],
   "source": [
    "#Python class that has two methods: get_String and print_String, get_String accept a string from the user and print_String prints the string in upper case\n",
    "class string0:\n",
    "    #def __init__(self):\n",
    "     #   self.str1=\"\"\n",
    "    def getstring(self):\n",
    "        self.str1=input()\n",
    "    def printstring(self):\n",
    "        print(self.str1.upper())\n",
    "\n",
    "obj=string0()\n",
    "obj.getstring()\n",
    "obj.printstring()"
   ]
  },
  {
   "cell_type": "code",
   "execution_count": 15,
   "metadata": {},
   "outputs": [
    {
     "name": "stdout",
     "output_type": "stream",
     "text": [
      "[-1, -2, 3, 4, 5]\n",
      "-1 -2 3\n"
     ]
    }
   ],
   "source": [
    "class name:\n",
    "    def triple(self,list,n):\n",
    "        for i in range(0,n-2):    \n",
    "            for j in range(i+1,n-1):            \n",
    "                for k in range(j+1,n):\n",
    "                    if(list[i]+list[j]+list[k]==0):\n",
    "                        print(list[i],list[j],list[k])\n",
    "\n",
    "list=[]\n",
    "n=int(input(\"enter n.o of elements in the list:\"))\n",
    "for i in range(0,n):\n",
    "    x=int(input(\"enter the element: \"))\n",
    "    list.append(x)\n",
    "print(list)\n",
    "\n",
    "o1=name()\n",
    "o1.triple(list,n)\n"
   ]
  },
  {
   "cell_type": "code",
   "execution_count": 16,
   "metadata": {},
   "outputs": [
    {
     "name": "stdout",
     "output_type": "stream",
     "text": [
      "__module__\n",
      "class2\n",
      "__dict__\n",
      "__weakref__\n",
      "__doc__\n"
     ]
    }
   ],
   "source": [
    "#Python program to create a class and display the namespace of that class.\n",
    "class class1:\n",
    "    def class2(self,name):\n",
    "        self.name = name\n",
    "        return self.name\n",
    "for name in class1.__dict__:\n",
    "    print(name)"
   ]
  },
  {
   "cell_type": "code",
   "execution_count": 1,
   "metadata": {},
   "outputs": [
    {
     "name": "stdout",
     "output_type": "stream",
     "text": [
      "[[], [6], [5], [5, 6], [4], [4, 6], [4, 5], [4, 5, 6]]\n"
     ]
    }
   ],
   "source": [
    "class unique:\n",
    "    def sub_sets(self, sset):\n",
    "        return self.subset([], sorted(sset))\n",
    "    \n",
    "    def subset(self, current, sset):\n",
    "        if sset:\n",
    "            return self.subset(current, sset[1:]) + self.subset(current + [sset[0]], sset[1:])\n",
    "        return [current]\n",
    "\n",
    "print(unique().sub_sets([4,5,6]))\n"
   ]
  },
  {
   "cell_type": "code",
   "execution_count": 2,
   "metadata": {},
   "outputs": [
    {
     "name": "stdout",
     "output_type": "stream",
     "text": [
      "index1=2, index2=3\n"
     ]
    }
   ],
   "source": [
    "class name1:\n",
    "  def twoSum(self, nums, target):\n",
    "       lookup = {}\n",
    "       for i, num in enumerate(nums):\n",
    "           if target - num in lookup:\n",
    "               return (lookup[target - num], i )\n",
    "           lookup[num] = i\n",
    "print(\"index1=%d, index2=%d\" % name1().twoSum((10,20,10,40,50,60,70),50))\n"
   ]
  }
 ],
 "metadata": {
  "kernelspec": {
   "display_name": "Python 3",
   "language": "python",
   "name": "python3"
  },
  "language_info": {
   "codemirror_mode": {
    "name": "ipython",
    "version": 3
   },
   "file_extension": ".py",
   "mimetype": "text/x-python",
   "name": "python",
   "nbconvert_exporter": "python",
   "pygments_lexer": "ipython3",
   "version": "3.10.10"
  },
  "orig_nbformat": 4
 },
 "nbformat": 4,
 "nbformat_minor": 2
}
