{
 "cells": [
  {
   "cell_type": "code",
   "execution_count": 67,
   "metadata": {},
   "outputs": [
    {
     "name": "stdout",
     "output_type": "stream",
     "text": [
      "y is the max number\n"
     ]
    }
   ],
   "source": [
    "def max(x,y,z):\n",
    "    if x>y:\n",
    "        print(\"X is the max number\")\n",
    "    elif y>z:\n",
    "        print(\"y is the max number\")\n",
    "    else:\n",
    "        print(\"z is the max number\")\n",
    "\n",
    "max(10,25,24)"
   ]
  },
  {
   "cell_type": "code",
   "execution_count": 66,
   "metadata": {},
   "outputs": [
    {
     "name": "stdout",
     "output_type": "stream",
     "text": [
      "sum of numbers in list : 26\n"
     ]
    }
   ],
   "source": [
    "def func1():\n",
    "    list=[11,2,3,0,10]  \n",
    "    total=sum(list)\n",
    "    print(\"sum of numbers in list :\",total)\n",
    "\n",
    "\n",
    "func1()    "
   ]
  },
  {
   "cell_type": "code",
   "execution_count": 39,
   "metadata": {},
   "outputs": [
    {
     "name": "stdout",
     "output_type": "stream",
     "text": [
      "Reverse string : dcba4321\n"
     ]
    }
   ],
   "source": [
    "def reverse(str):  \n",
    "    str1 = \"\"  \n",
    "    for i in str:  \n",
    "        str1 = i + str1  \n",
    "    return str1  \n",
    "     \n",
    "str=\"1234abcd\"     \n",
    "print(\"Reverse string :\",reverse(str)) "
   ]
  },
  {
   "cell_type": "code",
   "execution_count": 62,
   "metadata": {},
   "outputs": [
    {
     "name": "stdout",
     "output_type": "stream",
     "text": [
      "lower case letter : 12\n",
      "upper case letter : 3\n"
     ]
    }
   ],
   "source": [
    "def string(str):\n",
    "\n",
    "    x=str.replace(\" \",\"\")\n",
    "    lower=0\n",
    "    upper=0\n",
    "    for i in x:\n",
    "        if (i.islower()):\n",
    "            lower+=1\n",
    "        else:\n",
    "            upper+=1\n",
    "            \n",
    "    print(\"lower case letter :\",lower)\n",
    "    print(\"upper case letter :\",upper)\n",
    "str=\"The quick Brow Fox\"        \n",
    "string(str)"
   ]
  },
  {
   "cell_type": "code",
   "execution_count": 70,
   "metadata": {},
   "outputs": [
    {
     "name": "stdout",
     "output_type": "stream",
     "text": [
      "[1, 2, 3, 4, 5]\n"
     ]
    }
   ],
   "source": [
    "def list0():\n",
    "    list1=[1,2,3,3,3,3,4,5]\n",
    "    list2=[]\n",
    "    for i in list1:\n",
    "        if i not in list2:\n",
    "            list2.append(i)\n",
    "    print(list2)\n",
    "\n",
    "list0()\n"
   ]
  },
  {
   "cell_type": "code",
   "execution_count": 65,
   "metadata": {},
   "outputs": [
    {
     "name": "stdout",
     "output_type": "stream",
     "text": [
      "String is Palindrome\n"
     ]
    }
   ],
   "source": [
    "def palindrome(string):\n",
    "    if string==string[::-1]:\n",
    "        print(\"String is Palindrome\")\n",
    "    else:\n",
    "        print(\"String is Not palindrome\")\n",
    "\n",
    "string=(input(\"enter string\"))\n",
    "palindrome(string)"
   ]
  },
  {
   "cell_type": "code",
   "execution_count": 1,
   "metadata": {},
   "outputs": [
    {
     "name": "stdout",
     "output_type": "stream",
     "text": [
      "     \n",
      "    1 \n",
      "   1 1 \n",
      "  1 2 1 \n",
      " 1 3 3 1 \n",
      "1 4 6 4 1 \n"
     ]
    }
   ],
   "source": [
    "def solve(n):\n",
    "   for i in range(n+1):\n",
    "      for j in range(n-i):\n",
    "         print(' ', end='')\n",
    "\n",
    "      C = 1\n",
    "      for j in range(1, i+1):\n",
    "         print(C, ' ', sep='', end='')\n",
    "         C = C * (i - j) // j\n",
    "      print()\n",
    "\n",
    "n = 5\n",
    "solve(n)"
   ]
  },
  {
   "cell_type": "code",
   "execution_count": 30,
   "metadata": {},
   "outputs": [
    {
     "name": "stdout",
     "output_type": "stream",
     "text": [
      "120\n"
     ]
    }
   ],
   "source": [
    "def code():\n",
    "\tLOC = \"\"\"\n",
    "def factorial(num):\n",
    "\tfact=1\n",
    "\tfor i in range(1,num+1):\n",
    "\t\tfact = fact*i\n",
    "\treturn fact\n",
    "print(factorial(5))\n",
    "\"\"\"\n",
    "\texec(LOC)\n",
    "\t\n",
    "code()\n"
   ]
  },
  {
   "cell_type": "code",
   "execution_count": 31,
   "metadata": {},
   "outputs": [
    {
     "name": "stdout",
     "output_type": "stream",
     "text": [
      "30\n"
     ]
    }
   ],
   "source": [
    "def func1():\n",
    "    a=10\n",
    "    b=20\n",
    "    def func2():\n",
    "        print(a+b)\n",
    "\n",
    "    func2()\n",
    "func1()        "
   ]
  },
  {
   "cell_type": "code",
   "execution_count": 38,
   "metadata": {},
   "outputs": [
    {
     "name": "stdout",
     "output_type": "stream",
     "text": [
      "count of variables declared : 4\n",
      "sum : 52\n"
     ]
    }
   ],
   "source": [
    "def func1():\n",
    "    a=13\n",
    "    b=23\n",
    "    c=16\n",
    "    d=a+b+c\n",
    "    print(\"sum :\",d)\n",
    "\n",
    "print(\"count of variables declared :\",func1.__code__.co_nlocals)\n",
    "func1()"
   ]
  }
 ],
 "metadata": {
  "kernelspec": {
   "display_name": "Python 3",
   "language": "python",
   "name": "python3"
  },
  "language_info": {
   "codemirror_mode": {
    "name": "ipython",
    "version": 3
   },
   "file_extension": ".py",
   "mimetype": "text/x-python",
   "name": "python",
   "nbconvert_exporter": "python",
   "pygments_lexer": "ipython3",
   "version": "3.10.10"
  },
  "orig_nbformat": 4
 },
 "nbformat": 4,
 "nbformat_minor": 2
}
