{
 "cells": [
  {
   "cell_type": "code",
   "execution_count": 1,
   "metadata": {},
   "outputs": [
    {
     "name": "stdout",
     "output_type": "stream",
     "text": [
      "you'r not eligible to vote\n"
     ]
    }
   ],
   "source": [
    "age=int(input(\"enter the age:\"))\n",
    "if age>=18:\n",
    "    print(\"You'r eligible to vote\")\n",
    "else:\n",
    "    print(\"You'r not eligible to vote\")"
   ]
  },
  {
   "cell_type": "code",
   "execution_count": 2,
   "metadata": {},
   "outputs": [
    {
     "name": "stdout",
     "output_type": "stream",
     "text": [
      "number is odd\n"
     ]
    }
   ],
   "source": [
    "n=int(input(\"enter number:\"))\n",
    "if n%2==0:\n",
    "    print(\"number is even\")\n",
    "else:\n",
    "    print(\"number is odd\")"
   ]
  },
  {
   "cell_type": "code",
   "execution_count": 3,
   "metadata": {},
   "outputs": [
    {
     "name": "stdout",
     "output_type": "stream",
     "text": [
      "thursday\n"
     ]
    }
   ],
   "source": [
    "n=int(input(\"enter the number:\"))\n",
    "if n==1:\n",
    "    print(\"sunday\")\n",
    "elif n==2:\n",
    "    print(\"monday\")\n",
    "elif n==3:\n",
    "    print(\"tuesday\")\n",
    "elif n==4:\n",
    "    print(\"wednesday\")\n",
    "elif n==5:\n",
    "    print(\"thursday\")\n",
    "elif n==6:\n",
    "    print(\"friday\")\n",
    "elif n==7:\n",
    "    print(\"saturday\")\n",
    "else:\n",
    "    print(\"Invalid\")\n",
    "\n"
   ]
  },
  {
   "cell_type": "code",
   "execution_count": 1,
   "metadata": {},
   "outputs": [
    {
     "name": "stdout",
     "output_type": "stream",
     "text": [
      "given number is not three digited\n"
     ]
    }
   ],
   "source": [
    "n=int(input(\"enter number:\"))\n",
    "if n>=100 and n<=999:\n",
    "    print(\"given number is three digited\")\n",
    "else:\n",
    "    print(\"given number is not three digited\")\n"
   ]
  },
  {
   "cell_type": "code",
   "execution_count": 5,
   "metadata": {},
   "outputs": [
    {
     "name": "stdout",
     "output_type": "stream",
     "text": [
      "You'r not a senior citizen\n"
     ]
    }
   ],
   "source": [
    "age=int(input(\"Enter number:\"))\n",
    "if age>=60:\n",
    "    print(\"You'r a senior citizen\")\n",
    "else:\n",
    "    print(\"You'r not a senior citizen\")\n"
   ]
  },
  {
   "cell_type": "code",
   "execution_count": 6,
   "metadata": {},
   "outputs": [
    {
     "name": "stdout",
     "output_type": "stream",
     "text": [
      "the value of x is lowest one\n"
     ]
    }
   ],
   "source": [
    "x=int(input(\"enter a value of x : \"))\n",
    "y=int(input(\"enter a value of y : \"))\n",
    "if x<y:\n",
    "    print(\"the value of x is lowest one\")\n",
    "else:\n",
    "    print(\"the value of y is lowest one\")"
   ]
  },
  {
   "cell_type": "code",
   "execution_count": 7,
   "metadata": {},
   "outputs": [
    {
     "name": "stdout",
     "output_type": "stream",
     "text": [
      "given number is Negative\n"
     ]
    }
   ],
   "source": [
    "n=int(input(\"enter the number :\"))\n",
    "if n>=0:\n",
    "    print(\"given number is Positive\")\n",
    "elif n<=0:\n",
    "    print(\"given number is Negative\")"
   ]
  },
  {
   "cell_type": "code",
   "execution_count": 8,
   "metadata": {},
   "outputs": [
    {
     "name": "stdout",
     "output_type": "stream",
     "text": [
      "given number is divisble by 2 and 3\n"
     ]
    }
   ],
   "source": [
    "n=int(input(\"enter the number :\"))\n",
    "if n%2==0 and n%3==0:\n",
    "    print(\"given number is divisble by 2 and 3\")\n",
    "else:\n",
    "    print(\"not divisble by 2 and 3\")\n"
   ]
  },
  {
   "cell_type": "code",
   "execution_count": 9,
   "metadata": {},
   "outputs": [
    {
     "name": "stdout",
     "output_type": "stream",
     "text": [
      "y value is highest one compare to x and z\n"
     ]
    }
   ],
   "source": [
    "x=int(input(\"enter the value of x :\"))\n",
    "y=int(input(\"enter the value of y :\"))\n",
    "z=int(input(\"enter the value of z :\"))\n",
    "if x>y:\n",
    "    print(\"x value is highest one compare to y and z\")\n",
    "elif y>z:\n",
    "    print(\"y value is highest one compare to x and z\")\n",
    "else:\n",
    "    print(\"z value is highest one compare to x and y\")"
   ]
  },
  {
   "cell_type": "code",
   "execution_count": 10,
   "metadata": {},
   "outputs": [
    {
     "name": "stdout",
     "output_type": "stream",
     "text": [
      "you got A grade\n"
     ]
    }
   ],
   "source": [
    "n=int(input(\"enter the marks :\"))\n",
    "if n<25:\n",
    "    print(\"You got F grade\")\n",
    "elif n>=25 and n<45:\n",
    "    print(\"You got D grade\")\n",
    "elif n>=45 and n<50:\n",
    "    print(\"You got C grade\")\n",
    "elif n>=50 and n<60:\n",
    "    print(\"You got B grade\")\n",
    "elif n>=60 and n<80:\n",
    "    print(\"you got A grade\")\n",
    "elif n>80 and n<=100:\n",
    "    print(\"You got O grade\")\n",
    "else:\n",
    "    print(\"Invalid marks\")"
   ]
  },
  {
   "cell_type": "code",
   "execution_count": 11,
   "metadata": {},
   "outputs": [
    {
     "name": "stdout",
     "output_type": "stream",
     "text": [
      "69.0\n",
      "You are not eligible to take exam\n"
     ]
    }
   ],
   "source": [
    "x=int(input(\"number of classes held :\"))\n",
    "y=int(input(\"Number of classes attended :\"))\n",
    "percentage=(y/float(x))*100\n",
    "print(percentage)\n",
    "if percentage >75:\n",
    "    print(\"You are eligible to take exam\")\n",
    "else:\n",
    "    print(\"You are not eligible to take exam\")"
   ]
  }
 ],
 "metadata": {
  "kernelspec": {
   "display_name": "Python 3",
   "language": "python",
   "name": "python3"
  },
  "language_info": {
   "codemirror_mode": {
    "name": "ipython",
    "version": 3
   },
   "file_extension": ".py",
   "mimetype": "text/x-python",
   "name": "python",
   "nbconvert_exporter": "python",
   "pygments_lexer": "ipython3",
   "version": "3.10.10"
  },
  "orig_nbformat": 4
 },
 "nbformat": 4,
 "nbformat_minor": 2
}
