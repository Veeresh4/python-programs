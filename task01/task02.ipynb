{
 "cells": [
  {
   "cell_type": "code",
   "execution_count": 1,
   "metadata": {},
   "outputs": [
    {
     "name": "stdout",
     "output_type": "stream",
     "text": [
      "1\n",
      "2\n",
      "3\n",
      "4\n",
      "5\n",
      "6\n",
      "7\n",
      "8\n",
      "9\n",
      "10\n"
     ]
    }
   ],
   "source": [
    "for x in range(1,11): \n",
    "    print(x)"
   ]
  },
  {
   "cell_type": "code",
   "execution_count": 12,
   "metadata": {},
   "outputs": [
    {
     "name": "stdout",
     "output_type": "stream",
     "text": [
      "6 * 1 = 6\n",
      "6 * 2 = 12\n",
      "6 * 3 = 18\n",
      "6 * 4 = 24\n",
      "6 * 5 = 30\n",
      "6 * 6 = 36\n",
      "6 * 7 = 42\n",
      "6 * 8 = 48\n",
      "6 * 9 = 54\n",
      "6 * 10 = 60\n",
      "6 * 11 = 66\n",
      "6 * 12 = 72\n",
      "6 * 13 = 78\n",
      "6 * 14 = 84\n",
      "6 * 15 = 90\n",
      "6 * 16 = 96\n",
      "6 * 17 = 102\n",
      "6 * 18 = 108\n",
      "6 * 19 = 114\n",
      "6 * 20 = 120\n"
     ]
    }
   ],
   "source": [
    "n=int(input(\"enter number\"))\n",
    "for x in range(1,21,1):\n",
    "    print(n,\"*\",x,\"=\",n*x)"
   ]
  },
  {
   "cell_type": "code",
   "execution_count": 3,
   "metadata": {},
   "outputs": [
    {
     "name": "stdout",
     "output_type": "stream",
     "text": [
      "bmw\n",
      "kia\n",
      "mg\n",
      "toyota\n",
      "volvo\n"
     ]
    }
   ],
   "source": [
    "list=[\"bmw\",\"kia\",\"mg\",\"toyota\",\"volvo\"]\n",
    "for x in list:\n",
    "    print(x)"
   ]
  },
  {
   "cell_type": "code",
   "execution_count": 4,
   "metadata": {},
   "outputs": [
    {
     "name": "stdout",
     "output_type": "stream",
     "text": [
      "january have 30days\n",
      "february have 28days\n",
      "march have 31days\n",
      "april have 30days\n",
      "may have 31days\n",
      "june have 30days\n",
      "july have 31 days\n",
      "august have 31days\n",
      "september have 30days\n",
      "october have 31days\n",
      "november have 30 days\n",
      "december have 31days\n"
     ]
    }
   ],
   "source": [
    "list=[\"january\",\"february\",\"march\",\"april\",\"may\",\"june\",\"july\",\"august\",\"september\",\"october\",\"november\",\"december\"]\n",
    "for x in list:\n",
    "    if x==\"january\":\n",
    "        print(\"january have 30days\")\n",
    "    elif x==\"february\":\n",
    "        print(\"february have 28days\")\n",
    "    elif x==\"march\":\n",
    "        print(\"march have 31days\")\n",
    "    elif x==\"april\":\n",
    "        print(\"april have 30days\")\n",
    "    elif x==\"may\":\n",
    "        print(\"may have 31days\")\n",
    "    elif x==\"june\":\n",
    "        print(\"june have 30days\")\n",
    "    elif x==\"july\":\n",
    "        print(\"july have 31 days\")\n",
    "    elif x==\"august\":\n",
    "        print(\"august have 31days\")\n",
    "    elif x==\"september\":\n",
    "        print(\"september have 30days\")\n",
    "    elif x==\"october\":\n",
    "        print(\"october have 31days\")\n",
    "    elif x==\"november\":\n",
    "        print(\"november have 30 days\")\n",
    "    else:\n",
    "        print(\"december have 31days\")"
   ]
  },
  {
   "cell_type": "code",
   "execution_count": 5,
   "metadata": {},
   "outputs": [
    {
     "name": "stdout",
     "output_type": "stream",
     "text": [
      "5 4 3 2 1 \n",
      "4 3 2 1 \n",
      "3 2 1 \n",
      "2 1 \n",
      "1 \n"
     ]
    }
   ],
   "source": [
    "for i in range(5,0,-1):\n",
    "    for j in range(i,0,-1):\n",
    "        print(j,end=\" \")\n",
    "    print()"
   ]
  },
  {
   "cell_type": "code",
   "execution_count": 14,
   "metadata": {},
   "outputs": [
    {
     "name": "stdout",
     "output_type": "stream",
     "text": [
      "-10 -9 -8 -7 -6 -5 -4 -3 -2 -1 "
     ]
    }
   ],
   "source": [
    "for x in range(-10,0):\n",
    "    print(x,end=\" \")"
   ]
  },
  {
   "cell_type": "code",
   "execution_count": 7,
   "metadata": {},
   "outputs": [
    {
     "name": "stdout",
     "output_type": "stream",
     "text": [
      "[<class 'int'>, <class 'str'>, <class 'float'>]\n"
     ]
    }
   ],
   "source": [
    "list1=[20, \"python\", 33.98]\n",
    "list2=[]\n",
    "for x in list1:\n",
    "    list2.append(type(x))\n",
    "print(list2)\n"
   ]
  },
  {
   "cell_type": "code",
   "execution_count": 20,
   "metadata": {},
   "outputs": [
    {
     "name": "stdout",
     "output_type": "stream",
     "text": [
      "                  *  \n",
      "                 * *  \n",
      "                * * *  \n",
      "               * * * *  \n",
      "              * * * * *  \n",
      "             * * * * * *  \n",
      "            * * * * * * *  \n",
      "           * * * * * * * *  \n",
      "          * * * * * * * * *  \n",
      "         * * * * * * * * * *  \n"
     ]
    }
   ],
   "source": [
    "n = int(input(\"Enter the number of rows: \"))  \n",
    "m = (2 * n) - 2  \n",
    "for i in range(0, n):  \n",
    "    for j in range(0, m):  \n",
    "        print(end=\" \")  \n",
    "    m = m - 1  # decrementing m after each loop  \n",
    "    for j in range(0, i + 1):  \n",
    "        # printing full Triangle pyramid using stars  \n",
    "        print(\"*\", end=\" \")  \n",
    "    print(\" \")\n"
   ]
  },
  {
   "cell_type": "code",
   "execution_count": 9,
   "metadata": {},
   "outputs": [
    {
     "name": "stdout",
     "output_type": "stream",
     "text": [
      "1452 <class 'int'>\n",
      "11.23 <class 'float'>\n",
      "(1+2j) <class 'complex'>\n",
      "True <class 'bool'>\n",
      "w3resource <class 'str'>\n",
      "(0, -1) <class 'tuple'>\n",
      "[5, 12] <class 'list'>\n",
      "{'class': 'V', 'section': 'A'} <class 'dict'>\n"
     ]
    }
   ],
   "source": [
    "list = [1452, 11.23, 1+2j, True, 'w3resource', (0, -1), [5, 12], {\"class\":'V', \"section\":'A'}]\n",
    "for x in list:\n",
    "    print(x,end = \" \")\n",
    "    print(type(x))"
   ]
  },
  {
   "cell_type": "code",
   "execution_count": 10,
   "metadata": {},
   "outputs": [
    {
     "name": "stdout",
     "output_type": "stream",
     "text": [
      "[25]\n",
      "['0b11001']\n"
     ]
    }
   ],
   "source": [
    "list=[]\n",
    "for i in range(1):\n",
    "    x=int(input(\"\"))\n",
    "    list.append(x)\n",
    "print(list)\n",
    "\n",
    "bin_list=[]\n",
    "\n",
    "for i in list:\n",
    "    b=bin(i)\n",
    "    bin_list.append(b)\n",
    "    i+=1\n",
    "print(bin_list)"
   ]
  }
 ],
 "metadata": {
  "kernelspec": {
   "display_name": "Python 3",
   "language": "python",
   "name": "python3"
  },
  "language_info": {
   "codemirror_mode": {
    "name": "ipython",
    "version": 3
   },
   "file_extension": ".py",
   "mimetype": "text/x-python",
   "name": "python",
   "nbconvert_exporter": "python",
   "pygments_lexer": "ipython3",
   "version": "3.10.10"
  },
  "orig_nbformat": 4
 },
 "nbformat": 4,
 "nbformat_minor": 2
}
